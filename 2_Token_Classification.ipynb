{
  "nbformat": 4,
  "nbformat_minor": 0,
  "metadata": {
    "colab": {
      "provenance": []
    },
    "kernelspec": {
      "name": "python3",
      "display_name": "Python 3"
    },
    "language_info": {
      "name": "python"
    }
  },
  "cells": [
    {
      "cell_type": "markdown",
      "source": [
        "# Using pretrained models for Named Entity Recognition (NER)\n",
        "\n",
        "In this notebook, we are going to explore an important subfield of natural language processing, named entity recognition or NER.\n",
        "\n",
        "By the end of today's class you'll be able to:\n",
        "* Use a pretrained `spaCy` model to find named entities, especially for a non-English language\n",
        "* Explain why finding named entities is challenging without the use of a pretrained token classification model\n",
        "* Employ list comprehensions and advanced dictionaries in Python to parse model output\n",
        "* Install spaCy and download associated models in a Colab notebook"
      ],
      "metadata": {
        "id": "Zh3nhjnpYmxU"
      }
    },
    {
      "cell_type": "markdown",
      "source": [
        "## What is NER and why does it matter?\n",
        "\n",
        "Named entity recognition describes any method which uses computational methods to extract from unstructured text names of people, places or things. It is a hard classification task, meaning that every word in a document is either a type of named entity or it is not. For example in the following sentences:\n",
        "> My name is Peter Nadel. I work at Tufts University.\n",
        "\n",
        "the token 'Peter Nadel' could be tagged as a PERSON tag, where as Tufts Univerisity could be tagged with a PLACE tag. Importantly, in NER, no token can receive more than one tag.\n",
        "\n",
        "As a result, NER can be using in a wide variety of fields and applications.\n",
        "\n",
        "## How do you do NER?\n",
        "Just like many other NLP tasks, there are two main ways of conducting NER:\n",
        "1. **Rules-based**: This approach involves developing a list of rules which can identify a named entity deterministically. For example, if we wanted to identify someone's name, we would develop a rule like: find two words that are capitalized next to each other. This has the advantage that we will always find the entities we have rules for, but as the disadvantage that we have to make a huge amount of rules for this approach to be effective.  \n",
        "2. **Machine learning**: This apporach involves collecting and manually annotating many examples of what named entities look like in context. We can then teach a computer what a named entity looks like, allowing it to identify named entities in new texts. This has the advantage that we don't need to know exactly what a named entity looks like to work, but requires considerable manual annotation to get started.\n",
        "\n",
        "In this notebook, we will use a machine learning *model* to conduct NER. This will be a *pretrained* model, meaning that someone else already spent the time and energy to make it so that it works and we don't need to worry about that. (However, later in the course we will train an NER model from scratch.)"
      ],
      "metadata": {
        "id": "xBZu9PyKf4S1"
      }
    },
    {
      "cell_type": "markdown",
      "source": [
        "## Preparing for NER\n",
        "\n",
        "We'll be using a package called `spaCy` to conduct our NER. `spaCy` has a variety of pretrained models that we can take advantage of. The number of languages that `spaCy` support is somewhat small, but through this class we'll see how we can supplement it with other languages. For this example, we'll use `LatinCy`, a `spaCy` module for the Latin language. The model we'll be using was trained by [Patrick Burns](https://isaw.nyu.edu/people/staff/patrick-burns), a researcher at NYU's Institute for the Study of the Ancient World.\n",
        "\n",
        "Both `spaCy` and `LatinCy` do not come with this Colab notebook by default, so we'll need to install them. We will be using `pip`, a command line tool for installing Python packages, to do so."
      ],
      "metadata": {
        "id": "S0WBmcM1gQ2c"
      }
    },
    {
      "cell_type": "code",
      "execution_count": 4,
      "metadata": {
        "colab": {
          "base_uri": "https://localhost:8080/"
        },
        "id": "JeQXz1XiXMIB",
        "outputId": "b061671b-8185-422f-ca1a-d4b525029cbd"
      },
      "outputs": [
        {
          "output_type": "stream",
          "name": "stdout",
          "text": [
            "Requirement already satisfied: spacy in /usr/local/lib/python3.10/dist-packages (3.7.6)\n",
            "Requirement already satisfied: transformers in /usr/local/lib/python3.10/dist-packages (4.44.2)\n",
            "Requirement already satisfied: spacy-legacy<3.1.0,>=3.0.11 in /usr/local/lib/python3.10/dist-packages (from spacy) (3.0.12)\n",
            "Requirement already satisfied: spacy-loggers<2.0.0,>=1.0.0 in /usr/local/lib/python3.10/dist-packages (from spacy) (1.0.5)\n",
            "Requirement already satisfied: murmurhash<1.1.0,>=0.28.0 in /usr/local/lib/python3.10/dist-packages (from spacy) (1.0.10)\n",
            "Requirement already satisfied: cymem<2.1.0,>=2.0.2 in /usr/local/lib/python3.10/dist-packages (from spacy) (2.0.8)\n",
            "Requirement already satisfied: preshed<3.1.0,>=3.0.2 in /usr/local/lib/python3.10/dist-packages (from spacy) (3.0.9)\n",
            "Requirement already satisfied: thinc<8.3.0,>=8.2.2 in /usr/local/lib/python3.10/dist-packages (from spacy) (8.2.5)\n",
            "Requirement already satisfied: wasabi<1.2.0,>=0.9.1 in /usr/local/lib/python3.10/dist-packages (from spacy) (1.1.3)\n",
            "Requirement already satisfied: srsly<3.0.0,>=2.4.3 in /usr/local/lib/python3.10/dist-packages (from spacy) (2.4.8)\n",
            "Requirement already satisfied: catalogue<2.1.0,>=2.0.6 in /usr/local/lib/python3.10/dist-packages (from spacy) (2.0.10)\n",
            "Requirement already satisfied: weasel<0.5.0,>=0.1.0 in /usr/local/lib/python3.10/dist-packages (from spacy) (0.4.1)\n",
            "Requirement already satisfied: typer<1.0.0,>=0.3.0 in /usr/local/lib/python3.10/dist-packages (from spacy) (0.12.5)\n",
            "Requirement already satisfied: tqdm<5.0.0,>=4.38.0 in /usr/local/lib/python3.10/dist-packages (from spacy) (4.66.5)\n",
            "Requirement already satisfied: requests<3.0.0,>=2.13.0 in /usr/local/lib/python3.10/dist-packages (from spacy) (2.32.3)\n",
            "Requirement already satisfied: pydantic!=1.8,!=1.8.1,<3.0.0,>=1.7.4 in /usr/local/lib/python3.10/dist-packages (from spacy) (2.9.1)\n",
            "Requirement already satisfied: jinja2 in /usr/local/lib/python3.10/dist-packages (from spacy) (3.1.4)\n",
            "Requirement already satisfied: setuptools in /usr/local/lib/python3.10/dist-packages (from spacy) (71.0.4)\n",
            "Requirement already satisfied: packaging>=20.0 in /usr/local/lib/python3.10/dist-packages (from spacy) (24.1)\n",
            "Requirement already satisfied: langcodes<4.0.0,>=3.2.0 in /usr/local/lib/python3.10/dist-packages (from spacy) (3.4.0)\n",
            "Requirement already satisfied: numpy>=1.19.0 in /usr/local/lib/python3.10/dist-packages (from spacy) (1.26.4)\n",
            "Requirement already satisfied: filelock in /usr/local/lib/python3.10/dist-packages (from transformers) (3.16.0)\n",
            "Requirement already satisfied: huggingface-hub<1.0,>=0.23.2 in /usr/local/lib/python3.10/dist-packages (from transformers) (0.24.7)\n",
            "Requirement already satisfied: pyyaml>=5.1 in /usr/local/lib/python3.10/dist-packages (from transformers) (6.0.2)\n",
            "Requirement already satisfied: regex!=2019.12.17 in /usr/local/lib/python3.10/dist-packages (from transformers) (2024.9.11)\n",
            "Requirement already satisfied: safetensors>=0.4.1 in /usr/local/lib/python3.10/dist-packages (from transformers) (0.4.5)\n",
            "Requirement already satisfied: tokenizers<0.20,>=0.19 in /usr/local/lib/python3.10/dist-packages (from transformers) (0.19.1)\n",
            "Requirement already satisfied: fsspec>=2023.5.0 in /usr/local/lib/python3.10/dist-packages (from huggingface-hub<1.0,>=0.23.2->transformers) (2024.6.1)\n",
            "Requirement already satisfied: typing-extensions>=3.7.4.3 in /usr/local/lib/python3.10/dist-packages (from huggingface-hub<1.0,>=0.23.2->transformers) (4.12.2)\n",
            "Requirement already satisfied: language-data>=1.2 in /usr/local/lib/python3.10/dist-packages (from langcodes<4.0.0,>=3.2.0->spacy) (1.2.0)\n",
            "Requirement already satisfied: annotated-types>=0.6.0 in /usr/local/lib/python3.10/dist-packages (from pydantic!=1.8,!=1.8.1,<3.0.0,>=1.7.4->spacy) (0.7.0)\n",
            "Requirement already satisfied: pydantic-core==2.23.3 in /usr/local/lib/python3.10/dist-packages (from pydantic!=1.8,!=1.8.1,<3.0.0,>=1.7.4->spacy) (2.23.3)\n",
            "Requirement already satisfied: charset-normalizer<4,>=2 in /usr/local/lib/python3.10/dist-packages (from requests<3.0.0,>=2.13.0->spacy) (3.3.2)\n",
            "Requirement already satisfied: idna<4,>=2.5 in /usr/local/lib/python3.10/dist-packages (from requests<3.0.0,>=2.13.0->spacy) (3.10)\n",
            "Requirement already satisfied: urllib3<3,>=1.21.1 in /usr/local/lib/python3.10/dist-packages (from requests<3.0.0,>=2.13.0->spacy) (2.0.7)\n",
            "Requirement already satisfied: certifi>=2017.4.17 in /usr/local/lib/python3.10/dist-packages (from requests<3.0.0,>=2.13.0->spacy) (2024.8.30)\n",
            "Requirement already satisfied: blis<0.8.0,>=0.7.8 in /usr/local/lib/python3.10/dist-packages (from thinc<8.3.0,>=8.2.2->spacy) (0.7.11)\n",
            "Requirement already satisfied: confection<1.0.0,>=0.0.1 in /usr/local/lib/python3.10/dist-packages (from thinc<8.3.0,>=8.2.2->spacy) (0.1.5)\n",
            "Requirement already satisfied: click>=8.0.0 in /usr/local/lib/python3.10/dist-packages (from typer<1.0.0,>=0.3.0->spacy) (8.1.7)\n",
            "Requirement already satisfied: shellingham>=1.3.0 in /usr/local/lib/python3.10/dist-packages (from typer<1.0.0,>=0.3.0->spacy) (1.5.4)\n",
            "Requirement already satisfied: rich>=10.11.0 in /usr/local/lib/python3.10/dist-packages (from typer<1.0.0,>=0.3.0->spacy) (13.8.1)\n",
            "Requirement already satisfied: cloudpathlib<1.0.0,>=0.7.0 in /usr/local/lib/python3.10/dist-packages (from weasel<0.5.0,>=0.1.0->spacy) (0.19.0)\n",
            "Requirement already satisfied: smart-open<8.0.0,>=5.2.1 in /usr/local/lib/python3.10/dist-packages (from weasel<0.5.0,>=0.1.0->spacy) (7.0.4)\n",
            "Requirement already satisfied: MarkupSafe>=2.0 in /usr/local/lib/python3.10/dist-packages (from jinja2->spacy) (2.1.5)\n",
            "Requirement already satisfied: marisa-trie>=0.7.7 in /usr/local/lib/python3.10/dist-packages (from language-data>=1.2->langcodes<4.0.0,>=3.2.0->spacy) (1.2.0)\n",
            "Requirement already satisfied: markdown-it-py>=2.2.0 in /usr/local/lib/python3.10/dist-packages (from rich>=10.11.0->typer<1.0.0,>=0.3.0->spacy) (3.0.0)\n",
            "Requirement already satisfied: pygments<3.0.0,>=2.13.0 in /usr/local/lib/python3.10/dist-packages (from rich>=10.11.0->typer<1.0.0,>=0.3.0->spacy) (2.18.0)\n",
            "Requirement already satisfied: wrapt in /usr/local/lib/python3.10/dist-packages (from smart-open<8.0.0,>=5.2.1->weasel<0.5.0,>=0.1.0->spacy) (1.16.0)\n",
            "Requirement already satisfied: mdurl~=0.1 in /usr/local/lib/python3.10/dist-packages (from markdown-it-py>=2.2.0->rich>=10.11.0->typer<1.0.0,>=0.3.0->spacy) (0.1.2)\n",
            "Collecting en-core-web-lg==3.7.1\n",
            "  Downloading https://github.com/explosion/spacy-models/releases/download/en_core_web_lg-3.7.1/en_core_web_lg-3.7.1-py3-none-any.whl (587.7 MB)\n",
            "\u001b[2K     \u001b[90m━━━━━━━━━━━━━━━━━━━━━━━━━━━━━━━━━━━━━━━━\u001b[0m \u001b[32m587.7/587.7 MB\u001b[0m \u001b[31m1.5 MB/s\u001b[0m eta \u001b[36m0:00:00\u001b[0m\n",
            "\u001b[?25hRequirement already satisfied: spacy<3.8.0,>=3.7.2 in /usr/local/lib/python3.10/dist-packages (from en-core-web-lg==3.7.1) (3.7.6)\n",
            "Requirement already satisfied: spacy-legacy<3.1.0,>=3.0.11 in /usr/local/lib/python3.10/dist-packages (from spacy<3.8.0,>=3.7.2->en-core-web-lg==3.7.1) (3.0.12)\n",
            "Requirement already satisfied: spacy-loggers<2.0.0,>=1.0.0 in /usr/local/lib/python3.10/dist-packages (from spacy<3.8.0,>=3.7.2->en-core-web-lg==3.7.1) (1.0.5)\n",
            "Requirement already satisfied: murmurhash<1.1.0,>=0.28.0 in /usr/local/lib/python3.10/dist-packages (from spacy<3.8.0,>=3.7.2->en-core-web-lg==3.7.1) (1.0.10)\n",
            "Requirement already satisfied: cymem<2.1.0,>=2.0.2 in /usr/local/lib/python3.10/dist-packages (from spacy<3.8.0,>=3.7.2->en-core-web-lg==3.7.1) (2.0.8)\n",
            "Requirement already satisfied: preshed<3.1.0,>=3.0.2 in /usr/local/lib/python3.10/dist-packages (from spacy<3.8.0,>=3.7.2->en-core-web-lg==3.7.1) (3.0.9)\n",
            "Requirement already satisfied: thinc<8.3.0,>=8.2.2 in /usr/local/lib/python3.10/dist-packages (from spacy<3.8.0,>=3.7.2->en-core-web-lg==3.7.1) (8.2.5)\n",
            "Requirement already satisfied: wasabi<1.2.0,>=0.9.1 in /usr/local/lib/python3.10/dist-packages (from spacy<3.8.0,>=3.7.2->en-core-web-lg==3.7.1) (1.1.3)\n",
            "Requirement already satisfied: srsly<3.0.0,>=2.4.3 in /usr/local/lib/python3.10/dist-packages (from spacy<3.8.0,>=3.7.2->en-core-web-lg==3.7.1) (2.4.8)\n",
            "Requirement already satisfied: catalogue<2.1.0,>=2.0.6 in /usr/local/lib/python3.10/dist-packages (from spacy<3.8.0,>=3.7.2->en-core-web-lg==3.7.1) (2.0.10)\n",
            "Requirement already satisfied: weasel<0.5.0,>=0.1.0 in /usr/local/lib/python3.10/dist-packages (from spacy<3.8.0,>=3.7.2->en-core-web-lg==3.7.1) (0.4.1)\n",
            "Requirement already satisfied: typer<1.0.0,>=0.3.0 in /usr/local/lib/python3.10/dist-packages (from spacy<3.8.0,>=3.7.2->en-core-web-lg==3.7.1) (0.12.5)\n",
            "Requirement already satisfied: tqdm<5.0.0,>=4.38.0 in /usr/local/lib/python3.10/dist-packages (from spacy<3.8.0,>=3.7.2->en-core-web-lg==3.7.1) (4.66.5)\n",
            "Requirement already satisfied: requests<3.0.0,>=2.13.0 in /usr/local/lib/python3.10/dist-packages (from spacy<3.8.0,>=3.7.2->en-core-web-lg==3.7.1) (2.32.3)\n",
            "Requirement already satisfied: pydantic!=1.8,!=1.8.1,<3.0.0,>=1.7.4 in /usr/local/lib/python3.10/dist-packages (from spacy<3.8.0,>=3.7.2->en-core-web-lg==3.7.1) (2.9.1)\n",
            "Requirement already satisfied: jinja2 in /usr/local/lib/python3.10/dist-packages (from spacy<3.8.0,>=3.7.2->en-core-web-lg==3.7.1) (3.1.4)\n",
            "Requirement already satisfied: setuptools in /usr/local/lib/python3.10/dist-packages (from spacy<3.8.0,>=3.7.2->en-core-web-lg==3.7.1) (71.0.4)\n",
            "Requirement already satisfied: packaging>=20.0 in /usr/local/lib/python3.10/dist-packages (from spacy<3.8.0,>=3.7.2->en-core-web-lg==3.7.1) (24.1)\n",
            "Requirement already satisfied: langcodes<4.0.0,>=3.2.0 in /usr/local/lib/python3.10/dist-packages (from spacy<3.8.0,>=3.7.2->en-core-web-lg==3.7.1) (3.4.0)\n",
            "Requirement already satisfied: numpy>=1.19.0 in /usr/local/lib/python3.10/dist-packages (from spacy<3.8.0,>=3.7.2->en-core-web-lg==3.7.1) (1.26.4)\n",
            "Requirement already satisfied: language-data>=1.2 in /usr/local/lib/python3.10/dist-packages (from langcodes<4.0.0,>=3.2.0->spacy<3.8.0,>=3.7.2->en-core-web-lg==3.7.1) (1.2.0)\n",
            "Requirement already satisfied: annotated-types>=0.6.0 in /usr/local/lib/python3.10/dist-packages (from pydantic!=1.8,!=1.8.1,<3.0.0,>=1.7.4->spacy<3.8.0,>=3.7.2->en-core-web-lg==3.7.1) (0.7.0)\n",
            "Requirement already satisfied: pydantic-core==2.23.3 in /usr/local/lib/python3.10/dist-packages (from pydantic!=1.8,!=1.8.1,<3.0.0,>=1.7.4->spacy<3.8.0,>=3.7.2->en-core-web-lg==3.7.1) (2.23.3)\n",
            "Requirement already satisfied: typing-extensions>=4.6.1 in /usr/local/lib/python3.10/dist-packages (from pydantic!=1.8,!=1.8.1,<3.0.0,>=1.7.4->spacy<3.8.0,>=3.7.2->en-core-web-lg==3.7.1) (4.12.2)\n",
            "Requirement already satisfied: charset-normalizer<4,>=2 in /usr/local/lib/python3.10/dist-packages (from requests<3.0.0,>=2.13.0->spacy<3.8.0,>=3.7.2->en-core-web-lg==3.7.1) (3.3.2)\n",
            "Requirement already satisfied: idna<4,>=2.5 in /usr/local/lib/python3.10/dist-packages (from requests<3.0.0,>=2.13.0->spacy<3.8.0,>=3.7.2->en-core-web-lg==3.7.1) (3.10)\n",
            "Requirement already satisfied: urllib3<3,>=1.21.1 in /usr/local/lib/python3.10/dist-packages (from requests<3.0.0,>=2.13.0->spacy<3.8.0,>=3.7.2->en-core-web-lg==3.7.1) (2.0.7)\n",
            "Requirement already satisfied: certifi>=2017.4.17 in /usr/local/lib/python3.10/dist-packages (from requests<3.0.0,>=2.13.0->spacy<3.8.0,>=3.7.2->en-core-web-lg==3.7.1) (2024.8.30)\n",
            "Requirement already satisfied: blis<0.8.0,>=0.7.8 in /usr/local/lib/python3.10/dist-packages (from thinc<8.3.0,>=8.2.2->spacy<3.8.0,>=3.7.2->en-core-web-lg==3.7.1) (0.7.11)\n",
            "Requirement already satisfied: confection<1.0.0,>=0.0.1 in /usr/local/lib/python3.10/dist-packages (from thinc<8.3.0,>=8.2.2->spacy<3.8.0,>=3.7.2->en-core-web-lg==3.7.1) (0.1.5)\n",
            "Requirement already satisfied: click>=8.0.0 in /usr/local/lib/python3.10/dist-packages (from typer<1.0.0,>=0.3.0->spacy<3.8.0,>=3.7.2->en-core-web-lg==3.7.1) (8.1.7)\n",
            "Requirement already satisfied: shellingham>=1.3.0 in /usr/local/lib/python3.10/dist-packages (from typer<1.0.0,>=0.3.0->spacy<3.8.0,>=3.7.2->en-core-web-lg==3.7.1) (1.5.4)\n",
            "Requirement already satisfied: rich>=10.11.0 in /usr/local/lib/python3.10/dist-packages (from typer<1.0.0,>=0.3.0->spacy<3.8.0,>=3.7.2->en-core-web-lg==3.7.1) (13.8.1)\n",
            "Requirement already satisfied: cloudpathlib<1.0.0,>=0.7.0 in /usr/local/lib/python3.10/dist-packages (from weasel<0.5.0,>=0.1.0->spacy<3.8.0,>=3.7.2->en-core-web-lg==3.7.1) (0.19.0)\n",
            "Requirement already satisfied: smart-open<8.0.0,>=5.2.1 in /usr/local/lib/python3.10/dist-packages (from weasel<0.5.0,>=0.1.0->spacy<3.8.0,>=3.7.2->en-core-web-lg==3.7.1) (7.0.4)\n",
            "Requirement already satisfied: MarkupSafe>=2.0 in /usr/local/lib/python3.10/dist-packages (from jinja2->spacy<3.8.0,>=3.7.2->en-core-web-lg==3.7.1) (2.1.5)\n",
            "Requirement already satisfied: marisa-trie>=0.7.7 in /usr/local/lib/python3.10/dist-packages (from language-data>=1.2->langcodes<4.0.0,>=3.2.0->spacy<3.8.0,>=3.7.2->en-core-web-lg==3.7.1) (1.2.0)\n",
            "Requirement already satisfied: markdown-it-py>=2.2.0 in /usr/local/lib/python3.10/dist-packages (from rich>=10.11.0->typer<1.0.0,>=0.3.0->spacy<3.8.0,>=3.7.2->en-core-web-lg==3.7.1) (3.0.0)\n",
            "Requirement already satisfied: pygments<3.0.0,>=2.13.0 in /usr/local/lib/python3.10/dist-packages (from rich>=10.11.0->typer<1.0.0,>=0.3.0->spacy<3.8.0,>=3.7.2->en-core-web-lg==3.7.1) (2.18.0)\n",
            "Requirement already satisfied: wrapt in /usr/local/lib/python3.10/dist-packages (from smart-open<8.0.0,>=5.2.1->weasel<0.5.0,>=0.1.0->spacy<3.8.0,>=3.7.2->en-core-web-lg==3.7.1) (1.16.0)\n",
            "Requirement already satisfied: mdurl~=0.1 in /usr/local/lib/python3.10/dist-packages (from markdown-it-py>=2.2.0->rich>=10.11.0->typer<1.0.0,>=0.3.0->spacy<3.8.0,>=3.7.2->en-core-web-lg==3.7.1) (0.1.2)\n",
            "Installing collected packages: en-core-web-lg\n",
            "Successfully installed en-core-web-lg-3.7.1\n",
            "\u001b[38;5;2m✔ Download and installation successful\u001b[0m\n",
            "You can now load the package via spacy.load('en_core_web_lg')\n",
            "\u001b[38;5;3m⚠ Restart to reload dependencies\u001b[0m\n",
            "If you are in a Jupyter or Colab notebook, you may need to restart Python in\n",
            "order to load all the package's dependencies. You can do this by selecting the\n",
            "'Restart kernel' or 'Restart runtime' option.\n",
            "Collecting la-core-web-lg@ https://huggingface.co/latincy/la_core_web_lg/resolve/main/la_core_web_lg-any-py3-none-any.whl\n",
            "  Downloading https://huggingface.co/latincy/la_core_web_lg/resolve/main/la_core_web_lg-any-py3-none-any.whl (241.2 MB)\n",
            "\u001b[2K     \u001b[90m━━━━━━━━━━━━━━━━━━━━━━━━━━━━━━━━━━━━━━━━\u001b[0m \u001b[32m241.2/241.2 MB\u001b[0m \u001b[31m5.8 MB/s\u001b[0m eta \u001b[36m0:00:00\u001b[0m\n",
            "\u001b[?25hCollecting spacy-lookups-data@ git+https://github.com/diyclassics/spacy-lookups-data.git#egg=spacy-lookups-data (from la-core-web-lg@ https://huggingface.co/latincy/la_core_web_lg/resolve/main/la_core_web_lg-any-py3-none-any.whl)\n",
            "  Cloning https://github.com/diyclassics/spacy-lookups-data.git to /tmp/pip-install-dek1791r/spacy-lookups-data_66dbc2023cbe4b3c8ffc178cc5ef51af\n",
            "  Running command git clone --filter=blob:none --quiet https://github.com/diyclassics/spacy-lookups-data.git /tmp/pip-install-dek1791r/spacy-lookups-data_66dbc2023cbe4b3c8ffc178cc5ef51af\n",
            "  Resolved https://github.com/diyclassics/spacy-lookups-data.git to commit 5f2b7e60d3b461cd61649c0bb75f65a242b56ece\n",
            "  Preparing metadata (setup.py) ... \u001b[?25l\u001b[?25hdone\n",
            "Requirement already satisfied: spacy<3.8.0,>=3.7.5 in /usr/local/lib/python3.10/dist-packages (from la-core-web-lg@ https://huggingface.co/latincy/la_core_web_lg/resolve/main/la_core_web_lg-any-py3-none-any.whl) (3.7.6)\n",
            "Requirement already satisfied: spacy-legacy<3.1.0,>=3.0.11 in /usr/local/lib/python3.10/dist-packages (from spacy<3.8.0,>=3.7.5->la-core-web-lg@ https://huggingface.co/latincy/la_core_web_lg/resolve/main/la_core_web_lg-any-py3-none-any.whl) (3.0.12)\n",
            "Requirement already satisfied: spacy-loggers<2.0.0,>=1.0.0 in /usr/local/lib/python3.10/dist-packages (from spacy<3.8.0,>=3.7.5->la-core-web-lg@ https://huggingface.co/latincy/la_core_web_lg/resolve/main/la_core_web_lg-any-py3-none-any.whl) (1.0.5)\n",
            "Requirement already satisfied: murmurhash<1.1.0,>=0.28.0 in /usr/local/lib/python3.10/dist-packages (from spacy<3.8.0,>=3.7.5->la-core-web-lg@ https://huggingface.co/latincy/la_core_web_lg/resolve/main/la_core_web_lg-any-py3-none-any.whl) (1.0.10)\n",
            "Requirement already satisfied: cymem<2.1.0,>=2.0.2 in /usr/local/lib/python3.10/dist-packages (from spacy<3.8.0,>=3.7.5->la-core-web-lg@ https://huggingface.co/latincy/la_core_web_lg/resolve/main/la_core_web_lg-any-py3-none-any.whl) (2.0.8)\n",
            "Requirement already satisfied: preshed<3.1.0,>=3.0.2 in /usr/local/lib/python3.10/dist-packages (from spacy<3.8.0,>=3.7.5->la-core-web-lg@ https://huggingface.co/latincy/la_core_web_lg/resolve/main/la_core_web_lg-any-py3-none-any.whl) (3.0.9)\n",
            "Requirement already satisfied: thinc<8.3.0,>=8.2.2 in /usr/local/lib/python3.10/dist-packages (from spacy<3.8.0,>=3.7.5->la-core-web-lg@ https://huggingface.co/latincy/la_core_web_lg/resolve/main/la_core_web_lg-any-py3-none-any.whl) (8.2.5)\n",
            "Requirement already satisfied: wasabi<1.2.0,>=0.9.1 in /usr/local/lib/python3.10/dist-packages (from spacy<3.8.0,>=3.7.5->la-core-web-lg@ https://huggingface.co/latincy/la_core_web_lg/resolve/main/la_core_web_lg-any-py3-none-any.whl) (1.1.3)\n",
            "Requirement already satisfied: srsly<3.0.0,>=2.4.3 in /usr/local/lib/python3.10/dist-packages (from spacy<3.8.0,>=3.7.5->la-core-web-lg@ https://huggingface.co/latincy/la_core_web_lg/resolve/main/la_core_web_lg-any-py3-none-any.whl) (2.4.8)\n",
            "Requirement already satisfied: catalogue<2.1.0,>=2.0.6 in /usr/local/lib/python3.10/dist-packages (from spacy<3.8.0,>=3.7.5->la-core-web-lg@ https://huggingface.co/latincy/la_core_web_lg/resolve/main/la_core_web_lg-any-py3-none-any.whl) (2.0.10)\n",
            "Requirement already satisfied: weasel<0.5.0,>=0.1.0 in /usr/local/lib/python3.10/dist-packages (from spacy<3.8.0,>=3.7.5->la-core-web-lg@ https://huggingface.co/latincy/la_core_web_lg/resolve/main/la_core_web_lg-any-py3-none-any.whl) (0.4.1)\n",
            "Requirement already satisfied: typer<1.0.0,>=0.3.0 in /usr/local/lib/python3.10/dist-packages (from spacy<3.8.0,>=3.7.5->la-core-web-lg@ https://huggingface.co/latincy/la_core_web_lg/resolve/main/la_core_web_lg-any-py3-none-any.whl) (0.12.5)\n",
            "Requirement already satisfied: tqdm<5.0.0,>=4.38.0 in /usr/local/lib/python3.10/dist-packages (from spacy<3.8.0,>=3.7.5->la-core-web-lg@ https://huggingface.co/latincy/la_core_web_lg/resolve/main/la_core_web_lg-any-py3-none-any.whl) (4.66.5)\n",
            "Requirement already satisfied: requests<3.0.0,>=2.13.0 in /usr/local/lib/python3.10/dist-packages (from spacy<3.8.0,>=3.7.5->la-core-web-lg@ https://huggingface.co/latincy/la_core_web_lg/resolve/main/la_core_web_lg-any-py3-none-any.whl) (2.32.3)\n",
            "Requirement already satisfied: pydantic!=1.8,!=1.8.1,<3.0.0,>=1.7.4 in /usr/local/lib/python3.10/dist-packages (from spacy<3.8.0,>=3.7.5->la-core-web-lg@ https://huggingface.co/latincy/la_core_web_lg/resolve/main/la_core_web_lg-any-py3-none-any.whl) (2.9.1)\n",
            "Requirement already satisfied: jinja2 in /usr/local/lib/python3.10/dist-packages (from spacy<3.8.0,>=3.7.5->la-core-web-lg@ https://huggingface.co/latincy/la_core_web_lg/resolve/main/la_core_web_lg-any-py3-none-any.whl) (3.1.4)\n",
            "Requirement already satisfied: setuptools in /usr/local/lib/python3.10/dist-packages (from spacy<3.8.0,>=3.7.5->la-core-web-lg@ https://huggingface.co/latincy/la_core_web_lg/resolve/main/la_core_web_lg-any-py3-none-any.whl) (71.0.4)\n",
            "Requirement already satisfied: packaging>=20.0 in /usr/local/lib/python3.10/dist-packages (from spacy<3.8.0,>=3.7.5->la-core-web-lg@ https://huggingface.co/latincy/la_core_web_lg/resolve/main/la_core_web_lg-any-py3-none-any.whl) (24.1)\n",
            "Requirement already satisfied: langcodes<4.0.0,>=3.2.0 in /usr/local/lib/python3.10/dist-packages (from spacy<3.8.0,>=3.7.5->la-core-web-lg@ https://huggingface.co/latincy/la_core_web_lg/resolve/main/la_core_web_lg-any-py3-none-any.whl) (3.4.0)\n",
            "Requirement already satisfied: numpy>=1.19.0 in /usr/local/lib/python3.10/dist-packages (from spacy<3.8.0,>=3.7.5->la-core-web-lg@ https://huggingface.co/latincy/la_core_web_lg/resolve/main/la_core_web_lg-any-py3-none-any.whl) (1.26.4)\n",
            "Requirement already satisfied: language-data>=1.2 in /usr/local/lib/python3.10/dist-packages (from langcodes<4.0.0,>=3.2.0->spacy<3.8.0,>=3.7.5->la-core-web-lg@ https://huggingface.co/latincy/la_core_web_lg/resolve/main/la_core_web_lg-any-py3-none-any.whl) (1.2.0)\n",
            "Requirement already satisfied: annotated-types>=0.6.0 in /usr/local/lib/python3.10/dist-packages (from pydantic!=1.8,!=1.8.1,<3.0.0,>=1.7.4->spacy<3.8.0,>=3.7.5->la-core-web-lg@ https://huggingface.co/latincy/la_core_web_lg/resolve/main/la_core_web_lg-any-py3-none-any.whl) (0.7.0)\n",
            "Requirement already satisfied: pydantic-core==2.23.3 in /usr/local/lib/python3.10/dist-packages (from pydantic!=1.8,!=1.8.1,<3.0.0,>=1.7.4->spacy<3.8.0,>=3.7.5->la-core-web-lg@ https://huggingface.co/latincy/la_core_web_lg/resolve/main/la_core_web_lg-any-py3-none-any.whl) (2.23.3)\n",
            "Requirement already satisfied: typing-extensions>=4.6.1 in /usr/local/lib/python3.10/dist-packages (from pydantic!=1.8,!=1.8.1,<3.0.0,>=1.7.4->spacy<3.8.0,>=3.7.5->la-core-web-lg@ https://huggingface.co/latincy/la_core_web_lg/resolve/main/la_core_web_lg-any-py3-none-any.whl) (4.12.2)\n",
            "Requirement already satisfied: charset-normalizer<4,>=2 in /usr/local/lib/python3.10/dist-packages (from requests<3.0.0,>=2.13.0->spacy<3.8.0,>=3.7.5->la-core-web-lg@ https://huggingface.co/latincy/la_core_web_lg/resolve/main/la_core_web_lg-any-py3-none-any.whl) (3.3.2)\n",
            "Requirement already satisfied: idna<4,>=2.5 in /usr/local/lib/python3.10/dist-packages (from requests<3.0.0,>=2.13.0->spacy<3.8.0,>=3.7.5->la-core-web-lg@ https://huggingface.co/latincy/la_core_web_lg/resolve/main/la_core_web_lg-any-py3-none-any.whl) (3.10)\n",
            "Requirement already satisfied: urllib3<3,>=1.21.1 in /usr/local/lib/python3.10/dist-packages (from requests<3.0.0,>=2.13.0->spacy<3.8.0,>=3.7.5->la-core-web-lg@ https://huggingface.co/latincy/la_core_web_lg/resolve/main/la_core_web_lg-any-py3-none-any.whl) (2.0.7)\n",
            "Requirement already satisfied: certifi>=2017.4.17 in /usr/local/lib/python3.10/dist-packages (from requests<3.0.0,>=2.13.0->spacy<3.8.0,>=3.7.5->la-core-web-lg@ https://huggingface.co/latincy/la_core_web_lg/resolve/main/la_core_web_lg-any-py3-none-any.whl) (2024.8.30)\n",
            "Requirement already satisfied: blis<0.8.0,>=0.7.8 in /usr/local/lib/python3.10/dist-packages (from thinc<8.3.0,>=8.2.2->spacy<3.8.0,>=3.7.5->la-core-web-lg@ https://huggingface.co/latincy/la_core_web_lg/resolve/main/la_core_web_lg-any-py3-none-any.whl) (0.7.11)\n",
            "Requirement already satisfied: confection<1.0.0,>=0.0.1 in /usr/local/lib/python3.10/dist-packages (from thinc<8.3.0,>=8.2.2->spacy<3.8.0,>=3.7.5->la-core-web-lg@ https://huggingface.co/latincy/la_core_web_lg/resolve/main/la_core_web_lg-any-py3-none-any.whl) (0.1.5)\n",
            "Requirement already satisfied: click>=8.0.0 in /usr/local/lib/python3.10/dist-packages (from typer<1.0.0,>=0.3.0->spacy<3.8.0,>=3.7.5->la-core-web-lg@ https://huggingface.co/latincy/la_core_web_lg/resolve/main/la_core_web_lg-any-py3-none-any.whl) (8.1.7)\n",
            "Requirement already satisfied: shellingham>=1.3.0 in /usr/local/lib/python3.10/dist-packages (from typer<1.0.0,>=0.3.0->spacy<3.8.0,>=3.7.5->la-core-web-lg@ https://huggingface.co/latincy/la_core_web_lg/resolve/main/la_core_web_lg-any-py3-none-any.whl) (1.5.4)\n",
            "Requirement already satisfied: rich>=10.11.0 in /usr/local/lib/python3.10/dist-packages (from typer<1.0.0,>=0.3.0->spacy<3.8.0,>=3.7.5->la-core-web-lg@ https://huggingface.co/latincy/la_core_web_lg/resolve/main/la_core_web_lg-any-py3-none-any.whl) (13.8.1)\n",
            "Requirement already satisfied: cloudpathlib<1.0.0,>=0.7.0 in /usr/local/lib/python3.10/dist-packages (from weasel<0.5.0,>=0.1.0->spacy<3.8.0,>=3.7.5->la-core-web-lg@ https://huggingface.co/latincy/la_core_web_lg/resolve/main/la_core_web_lg-any-py3-none-any.whl) (0.19.0)\n",
            "Requirement already satisfied: smart-open<8.0.0,>=5.2.1 in /usr/local/lib/python3.10/dist-packages (from weasel<0.5.0,>=0.1.0->spacy<3.8.0,>=3.7.5->la-core-web-lg@ https://huggingface.co/latincy/la_core_web_lg/resolve/main/la_core_web_lg-any-py3-none-any.whl) (7.0.4)\n",
            "Requirement already satisfied: MarkupSafe>=2.0 in /usr/local/lib/python3.10/dist-packages (from jinja2->spacy<3.8.0,>=3.7.5->la-core-web-lg@ https://huggingface.co/latincy/la_core_web_lg/resolve/main/la_core_web_lg-any-py3-none-any.whl) (2.1.5)\n",
            "Requirement already satisfied: marisa-trie>=0.7.7 in /usr/local/lib/python3.10/dist-packages (from language-data>=1.2->langcodes<4.0.0,>=3.2.0->spacy<3.8.0,>=3.7.5->la-core-web-lg@ https://huggingface.co/latincy/la_core_web_lg/resolve/main/la_core_web_lg-any-py3-none-any.whl) (1.2.0)\n",
            "Requirement already satisfied: markdown-it-py>=2.2.0 in /usr/local/lib/python3.10/dist-packages (from rich>=10.11.0->typer<1.0.0,>=0.3.0->spacy<3.8.0,>=3.7.5->la-core-web-lg@ https://huggingface.co/latincy/la_core_web_lg/resolve/main/la_core_web_lg-any-py3-none-any.whl) (3.0.0)\n",
            "Requirement already satisfied: pygments<3.0.0,>=2.13.0 in /usr/local/lib/python3.10/dist-packages (from rich>=10.11.0->typer<1.0.0,>=0.3.0->spacy<3.8.0,>=3.7.5->la-core-web-lg@ https://huggingface.co/latincy/la_core_web_lg/resolve/main/la_core_web_lg-any-py3-none-any.whl) (2.18.0)\n",
            "Requirement already satisfied: wrapt in /usr/local/lib/python3.10/dist-packages (from smart-open<8.0.0,>=5.2.1->weasel<0.5.0,>=0.1.0->spacy<3.8.0,>=3.7.5->la-core-web-lg@ https://huggingface.co/latincy/la_core_web_lg/resolve/main/la_core_web_lg-any-py3-none-any.whl) (1.16.0)\n",
            "Requirement already satisfied: mdurl~=0.1 in /usr/local/lib/python3.10/dist-packages (from markdown-it-py>=2.2.0->rich>=10.11.0->typer<1.0.0,>=0.3.0->spacy<3.8.0,>=3.7.5->la-core-web-lg@ https://huggingface.co/latincy/la_core_web_lg/resolve/main/la_core_web_lg-any-py3-none-any.whl) (0.1.2)\n"
          ]
        }
      ],
      "source": [
        "# installations: recall that we use the '!' to indicate that this is a shell command\n",
        "# this cell will take about 5 min to run\n",
        "!pip install spacy transformers\n",
        "!python -m spacy download en_core_web_lg\n",
        "!pip install \"la-core-web-lg @ https://huggingface.co/latincy/la_core_web_lg/resolve/main/la_core_web_lg-any-py3-none-any.whl\""
      ]
    },
    {
      "cell_type": "markdown",
      "source": [
        "## Using `spaCy` for Named Entity Recognition\n",
        "\n",
        "\n"
      ],
      "metadata": {
        "id": "yXzsmBTKprD6"
      }
    },
    {
      "cell_type": "markdown",
      "source": [
        "### English examples\n",
        "\n",
        "Before we turn to `LatinCy`, let's take a look at what this task looks like for some simple English texts. Then we can apply the same rationale to using the Latin model wiht complex Latin texts."
      ],
      "metadata": {
        "id": "xTk1AhlkmK7n"
      }
    },
    {
      "cell_type": "code",
      "source": [
        "import spacy\n",
        "english_nlp = spacy.load('en_core_web_lg') # nlp object takes in the model name and give us back a tool we can work with\n",
        "english_nlp"
      ],
      "metadata": {
        "colab": {
          "base_uri": "https://localhost:8080/"
        },
        "id": "hhtsH35oXFJS",
        "outputId": "100f7d65-581b-40a1-a490-766a5ab3cde3"
      },
      "execution_count": 6,
      "outputs": [
        {
          "output_type": "execute_result",
          "data": {
            "text/plain": [
              "<spacy.lang.en.English at 0x7cc41ac1b370>"
            ]
          },
          "metadata": {},
          "execution_count": 6
        }
      ]
    },
    {
      "cell_type": "code",
      "source": [
        "# example from above\n",
        "text = \"\"\"\n",
        "My name is Peter Nadel. I work at Tufts University.\n",
        "\"\"\".strip()\n",
        "doc = english_nlp(text) # call english_nlp with text to get a doc object\n",
        "type(doc)"
      ],
      "metadata": {
        "colab": {
          "base_uri": "https://localhost:8080/"
        },
        "id": "eV_0hbcWXFGb",
        "outputId": "40d3eac7-212e-42b3-93c6-6307f1dd16b4"
      },
      "execution_count": 7,
      "outputs": [
        {
          "output_type": "execute_result",
          "data": {
            "text/plain": [
              "spacy.tokens.doc.Doc"
            ]
          },
          "metadata": {},
          "execution_count": 7
        }
      ]
    },
    {
      "cell_type": "code",
      "source": [
        "# get entities\n",
        "entities = doc.ents\n",
        "for i, entity in enumerate(entities):\n",
        "  print(f\"Entity {i+1}: \", entity.text, \"| Entity Type: \", entity.label_)"
      ],
      "metadata": {
        "colab": {
          "base_uri": "https://localhost:8080/"
        },
        "id": "HkGlSjBKXFEF",
        "outputId": "6c6134ad-5a75-4929-aa1b-9d43d007e7ee"
      },
      "execution_count": 20,
      "outputs": [
        {
          "output_type": "stream",
          "name": "stdout",
          "text": [
            "Entity 1:  Peter Nadel | Entity Type:  PERSON\n",
            "Entity 2:  Tufts University | Entity Type:  ORG\n"
          ]
        }
      ]
    },
    {
      "cell_type": "code",
      "source": [
        "# now let's try a more complex example: the opening of middlemarch by goerge eliot\n",
        "text = \"\"\"\n",
        "Miss Brooke had that kind of beauty which seems to be thrown into relief by poor dress.\n",
        "Her hand and wrist were so finely formed that she could wear sleeves not less bare of style\n",
        "than those in which the Blessed Virgin appeared to Italian painters; and her profile as\n",
        "well as her stature and bearing seemed to gain the more dignity from her plain garments,\n",
        "which by the side of provincial fashion gave her the impressiveness of a fine quotation from\n",
        "the Bible,—or from one of our elder poets,—in a paragraph of to-day’s newspaper.\n",
        "She was usually spoken of as being remarkably clever, but with the addition that\n",
        "her sister Celia had more common-sense. Nevertheless, Celia wore scarcely more\n",
        "trimmings; and it was only to close observers that her dress differed from her sister’s,\n",
        "and had a shade of coquetry in its arrangements; for Miss Brooke’s plain dressing was\n",
        "due to mixed conditions, in most of which her sister shared. The pride of being ladies\n",
        "had something to do with it: the Brooke connections, though not exactly aristocratic,\n",
        "were unquestionably “good:” if you inquired backward for a generation or two, you\n",
        "would not find any yard-measuring or parcel-tying forefathers—anything lower than an\n",
        "admiral or a clergyman; and there was even an ancestor discernible as a Puritan gentleman\n",
        "who served under Cromwell, but afterwards conformed, and managed to come out of all\n",
        "political troubles as the proprietor of a respectable family estate. Young women of\n",
        "such birth, living in a quiet country-house, and attending a village church hardly\n",
        "larger than a parlor, naturally regarded frippery as the ambition of a huckster’s daughter.\n",
        "Then there was well-bred economy, which in those days made show in dress the first item\n",
        "to be deducted from, when any margin was required for expenses more distinctive of rank.\n",
        "Such reasons would have been enough to account for plain dress, quite apart from religious\n",
        "feeling; but in Miss Brooke’s case, religion alone would have determined it; and Celia\n",
        "mildly acquiesced in all her sister’s sentiments, only infusing them with that common-sense\n",
        "which is able to accept momentous doctrines without any eccentric agitation. Dorothea\n",
        "knew many passages of Pascal’s Pensees and of Jeremy Taylor by heart; and to her the destinies\n",
        "of mankind, seen by the light of Christianity, made the solicitudes of feminine fashion\n",
        "appear an occupation for Bedlam. She could not reconcile the anxieties of a spiritual\n",
        "life involving eternal consequences, with a keen interest in gimp and artificial protrusions\n",
        "of drapery. Her mind was theoretic, and yearned by its nature after some lofty conception of\n",
        "the world which might frankly include the parish of Tipton and her own rule of conduct\n",
        "there; she was enamoured of intensity and greatness, and rash in embracing whatever\n",
        "seemed to her to have those aspects; likely to seek martyrdom, to make retractations,\n",
        "and then to incur martyrdom after all in a quarter where she had not sought it. Certainly\n",
        "such elements in the character of a marriageable girl tended to interfere with her lot,\n",
        "and hinder it from being decided according to custom, by good looks, vanity, and merely\n",
        "canine affection. With all this, she, the elder of the sisters, was not yet twenty, and\n",
        "they had both been educated, since they were about twelve years old and had lost their\n",
        "parents, on plans at once narrow and promiscuous, first in an English family and afterwards\n",
        "in a Swiss family at Lausanne, their bachelor uncle and guardian trying in this way to\n",
        "remedy the disadvantages of their orphaned condition.\n",
        "\"\"\".strip().replace(' \\n', ' ')\n",
        "doc = english_nlp(text)\n",
        "entities = doc.ents\n",
        "for i, entity in enumerate(entities):\n",
        "  print(f\"Entity {i+1}: \", entity.text, \"| Entity Type: \", entity.label_)"
      ],
      "metadata": {
        "colab": {
          "base_uri": "https://localhost:8080/"
        },
        "id": "pXySgWFjXE-m",
        "outputId": "5b536df1-6426-47bb-ef7a-08f992f3281c"
      },
      "execution_count": 25,
      "outputs": [
        {
          "output_type": "stream",
          "name": "stdout",
          "text": [
            "Entity 1:  Brooke | Entity Type:  PERSON\n",
            "Entity 2:  the Blessed Virgin | Entity Type:  ORG\n",
            "Entity 3:  Italian | Entity Type:  NORP\n",
            "Entity 4:  day | Entity Type:  DATE\n",
            "Entity 5:  Celia | Entity Type:  PERSON\n",
            "Entity 6:  Celia | Entity Type:  PERSON\n",
            "Entity 7:  Brooke | Entity Type:  PERSON\n",
            "Entity 8:  Brooke | Entity Type:  PERSON\n",
            "Entity 9:  two | Entity Type:  CARDINAL\n",
            "Entity 10:  Puritan | Entity Type:  NORP\n",
            "Entity 11:  Cromwell | Entity Type:  ORG\n",
            "Entity 12:  those days | Entity Type:  DATE\n",
            "Entity 13:  first | Entity Type:  ORDINAL\n",
            "Entity 14:  Brooke | Entity Type:  PERSON\n",
            "Entity 15:  Celia | Entity Type:  PERSON\n",
            "Entity 16:  Dorothea | Entity Type:  PERSON\n",
            "Entity 17:  Pascal | Entity Type:  PERSON\n",
            "Entity 18:  Pensees | Entity Type:  PRODUCT\n",
            "Entity 19:  Jeremy Taylor | Entity Type:  PERSON\n",
            "Entity 20:  Christianity | Entity Type:  NORP\n",
            "Entity 21:  Bedlam | Entity Type:  PERSON\n",
            "Entity 22:  Tipton | Entity Type:  GPE\n",
            "Entity 23:  a quarter | Entity Type:  DATE\n",
            "Entity 24:  twenty | Entity Type:  CARDINAL\n",
            "Entity 25:  about twelve years old | Entity Type:  DATE\n",
            "Entity 26:  first | Entity Type:  ORDINAL\n",
            "Entity 27:  English | Entity Type:  LANGUAGE\n",
            "Entity 28:  Swiss | Entity Type:  NORP\n",
            "Entity 29:  Lausanne | Entity Type:  GPE\n"
          ]
        }
      ]
    },
    {
      "cell_type": "markdown",
      "source": [
        "That's a lot more entities, so let's start store this data in a data structure. In Introduction to Digital Humanities, you probably saw how to count words in a block of text. Here we'll do a similar thing but first we'll count the number of times an entity is mentioned and then we'll count how many times a entity type is mentioned.\n",
        "\n",
        "And we'll actually do both of these in two different ways:\n",
        "* `defaultdict`: a default dictionary is a data structure in Python that functions like a dictionary, but the values are of a certain type.\n",
        "* `Counter`: a dictionary that is designed for counting discrete elements of an list or string.\n",
        "\n",
        "Additionally, for the `Counter`, we'll need to separate the entities list out into a list of entities and a list of their labels. To do so, we'll use list comprehensions. A list comprehension is a special Python syntax that allows us to put a loop on a single line. See the example below:\n",
        "\n",
        "```python\n",
        "# normal for loop\n",
        "holder = []\n",
        "for element in elements:\n",
        "    holder.append(element)\n",
        "```\n",
        "``` python\n",
        "# list comprehension\n",
        "holder = [element for element in elements]\n",
        "```\n",
        "Importantly, these two blocks of code do the same thing, it's just that the list comprehension is on a single line. This can help with efficiency (though only for small- to medium-sized lists) and is easier to read."
      ],
      "metadata": {
        "id": "TqucVW1GdwrT"
      }
    },
    {
      "cell_type": "code",
      "source": [
        "# method one: defaultdict\n",
        "from collections import defaultdict\n",
        "\n",
        "entity_counts = defaultdict(int)\n",
        "entity_type_counts = defaultdict(int)\n",
        "\n",
        "# for loop for incrementing\n",
        "for entity in entities:\n",
        "  entity_counts[entity.text] += 1\n",
        "  entity_type_counts[entity.label_] += 1\n",
        "\n",
        "# top 3 of each\n",
        "for entity_type, count in sorted(entity_type_counts.items(), key=lambda x: x[1], reverse=True)[:3]:\n",
        "  print(f\"{entity_type}: {count}\")\n",
        "print('-'*10)\n",
        "for entity, count in sorted(entity_counts.items(), key=lambda x: x[1], reverse=True)[:3]:\n",
        "  print(f\"{entity}: {count}\")"
      ],
      "metadata": {
        "colab": {
          "base_uri": "https://localhost:8080/"
        },
        "id": "31qI5K_FbCJt",
        "outputId": "9532fe94-4d66-478f-9fac-7f5f866b8d7b"
      },
      "execution_count": 28,
      "outputs": [
        {
          "output_type": "stream",
          "name": "stdout",
          "text": [
            "PERSON: 11\n",
            "NORP: 4\n",
            "DATE: 4\n",
            "----------\n",
            "Brooke: 4\n",
            "Celia: 3\n",
            "first: 2\n"
          ]
        }
      ]
    },
    {
      "cell_type": "code",
      "source": [
        "# method two: Counter\n",
        "from collections import Counter\n",
        "\n",
        "# we need a two lists for entities and labels\n",
        "entity_texts = [ent.text for ent in entities]\n",
        "entity_labels = [ent.label_ for ent in entities]\n",
        "\n",
        "entity_counts = Counter(entity_texts)\n",
        "entity_type_counts = Counter(entity_labels)\n",
        "\n",
        "# top 3 of each\n",
        "for entity_type, count in entity_type_counts.most_common(3):\n",
        "  print(f\"{entity_type}: {count}\")\n",
        "print('-'*10)\n",
        "for entity, count in entity_counts.most_common(3):\n",
        "  print(f\"{entity}: {count}\")"
      ],
      "metadata": {
        "colab": {
          "base_uri": "https://localhost:8080/"
        },
        "id": "aeNTT9CkbCL-",
        "outputId": "4e0c557e-43dd-435c-cf1c-978e5f186144"
      },
      "execution_count": 29,
      "outputs": [
        {
          "output_type": "stream",
          "name": "stdout",
          "text": [
            "PERSON: 11\n",
            "NORP: 4\n",
            "DATE: 4\n",
            "----------\n",
            "Brooke: 4\n",
            "Celia: 3\n",
            "first: 2\n"
          ]
        }
      ]
    },
    {
      "cell_type": "code",
      "source": [
        "# we can now even plot the results\n",
        "import matplotlib.pyplot as plt\n",
        "\n",
        "plt.figure(figsize=(20, 10))\n",
        "plt.subplot(1, 2, 1)\n",
        "plt.barh(list(entity_counts.keys()), list(entity_counts.values()))\n",
        "plt.xlabel('Count')\n",
        "plt.ylabel('Entity')\n",
        "plt.title('Entity Counts')\n",
        "\n",
        "plt.subplot(1, 2, 2)\n",
        "plt.barh(list(entity_type_counts.keys()), list(entity_type_counts.values()))\n",
        "plt.xlabel('Count')\n",
        "plt.ylabel('Entity Type')\n",
        "plt.title('Entity Type Counts')\n",
        "plt.show()"
      ],
      "metadata": {
        "colab": {
          "base_uri": "https://localhost:8080/",
          "height": 486
        },
        "id": "E2CK5LzhXE7v",
        "outputId": "22e682c1-6547-4158-e8ca-c5b63a623aaf"
      },
      "execution_count": 51,
      "outputs": [
        {
          "output_type": "display_data",
          "data": {
            "text/plain": [
              "<Figure size 2000x1000 with 2 Axes>"
            ],
            "image/png": "[encoded data removed]"
          },
          "metadata": {}
        }
      ]
    },
    {
      "cell_type": "markdown",
      "source": [
        "### Non-English case: Parsing Latin texts"
      ],
      "metadata": {
        "id": "FfrJ6qofmwxr"
      }
    },
    {
      "cell_type": "code",
      "source": [
        "import spacy\n",
        "nlp = spacy.load('la_core_web_lg') # loading the latin model instead of the english one"
      ],
      "metadata": {
        "id": "sjf4MhQelmH0"
      },
      "execution_count": 52,
      "outputs": []
    },
    {
      "cell_type": "markdown",
      "source": [
        "#### Data collection and scraping"
      ],
      "metadata": {
        "id": "SfxOvalWpFeV"
      }
    },
    {
      "cell_type": "code",
      "source": [
        "# for this example we'll use Cicero's Letter's to Atticus\n",
        "# here we download it in XML form and parse it with BeautifulSoup4\n",
        "# if you don't remember this from the intro class, don't worry we'll revisit this in week 5\n",
        "!wget https://www.perseus.tufts.edu/hopper/dltext?doc=Perseus%3Atext%3A1999.02.0008 -O atticus.xml"
      ],
      "metadata": {
        "colab": {
          "base_uri": "https://localhost:8080/"
        },
        "id": "ZXXnBFR4owHc",
        "outputId": "fbe18e8d-6401-4c9a-b277-ec9b109bd218"
      },
      "execution_count": 57,
      "outputs": [
        {
          "output_type": "stream",
          "name": "stdout",
          "text": [
            "--2024-09-19 18:54:47--  https://www.perseus.tufts.edu/hopper/dltext?doc=Perseus%3Atext%3A1999.02.0008\n",
            "Resolving www.perseus.tufts.edu (www.perseus.tufts.edu)... 130.64.212.105\n",
            "Connecting to www.perseus.tufts.edu (www.perseus.tufts.edu)|130.64.212.105|:443... connected.\n",
            "HTTP request sent, awaiting response... 200 OK\n",
            "Length: 1400668 (1.3M) [text/xml]\n",
            "Saving to: ‘atticus.xml’\n",
            "\n",
            "\ratticus.xml           0%[                    ]       0  --.-KB/s               \ratticus.xml         100%[===================>]   1.33M  7.60MB/s    in 0.2s    \n",
            "\n",
            "2024-09-19 18:54:47 (7.60 MB/s) - ‘atticus.xml’ saved [1400668/1400668]\n",
            "\n"
          ]
        }
      ]
    },
    {
      "cell_type": "code",
      "source": [
        "from bs4 import BeautifulSoup\n",
        "soup = BeautifulSoup(open('atticus.xml', 'r').read(), features='xml')\n",
        "soup.find('div2') # first letter"
      ],
      "metadata": {
        "colab": {
          "base_uri": "https://localhost:8080/"
        },
        "id": "i-QabNWnpXBS",
        "outputId": "0d271620-f568-469a-91c4-baffa571b048"
      },
      "execution_count": 73,
      "outputs": [
        {
          "output_type": "execute_result",
          "data": {
            "text/plain": [
              "<div2 n=\"1\" org=\"uniform\" sample=\"complete\" type=\"letter\">\n",
              "<milestone n=\"1\" unit=\"vulgate-letter\"/>\n",
              "<opener>\n",
              "<dateline>Scr. Romae <date authname=\"-65-07\" value=\"-65-7\">m. Quint. a. 689 (65)</date>.</dateline>\n",
              "<salute>CICERO ATTICO salutem</salute>\n",
              "</opener>\n",
              "<p><milestone n=\"1\" unit=\"section\"/>\n",
              "<reg>petitionis</reg> nostrae, quam tibi summae curae esse scio, huius modi ratio est\n",
              "            quod adhuc coniectura provideri possit. <reg>prensat</reg> unus P.\n",
              "              Galba. <reg>sine</reg> fuco ac fallaciis more maiorum negatur. ut opinio\n",
              "            est hominum, non aliena rationi nostrae fuit illius haec praepropera prensatio.\n",
              "              <reg>nam</reg> illi ita negant vulgo ut mihi se debere dicant. <reg>ita</reg> quiddam\n",
              "            spero nobis profici, cum hoc percrebrescit, plurimos nostros amicos inveniri.\n",
              "              <reg>nos</reg> autem initium prensandi facere cogitaramus eo ipso tempore quo tuum\n",
              "            puerum cum his litteris proficisci Cincius dicebat, in campo comitiis\n",
              "            tribuniciis <date>a. d. <pb n=\"147\"/> xvi Kalend. Sextilis</date>.\n",
              "              <reg>competitores</reg>, qui certi esse videantur, Galba et\n",
              "              Antonius et Q. Cornificius. <reg>puto</reg> te in\n",
              "            hoc aut risisse aut ingemuisse. ut frontem ferias, sunt qui etiam Caesonium\n",
              "            putent. Aquilium non arbitrabamur, qui denegavit et iuravit morbum et illud\n",
              "            suum regnum iudiciale opposuit. Catilina, si iudicatum erit meridie non\n",
              "            lucere, certus erit competitor. <reg>de</reg>\n",
              "            Aufidio et de Palicano <pb n=\"148\"/> non puto te exspectare dum scribam.\n",
              "              <milestone ed=\"P\" unit=\"para\"/>\n",
              "<milestone n=\"2\" unit=\"section\"/>\n",
              "<reg>de</reg> iis qui nunc petunt Caesar certus putatur.\n",
              "              Thermus cum Silano contendere existimatur; qui sic inopes et\n",
              "            ab amicis et existimatione sunt ut mihi videatur non esse <foreign lang=\"greek\">a)du/naton</foreign>\n",
              "            Curium obducere. <reg>sed</reg> hoc praeter me nemini videtur.\n",
              "              <reg>nostris</reg> rationibus maxime conducere videtur Thermum fieri cum\n",
              "              Caesare. <reg>nemo</reg> est enim ex iis qui nunc petunt qui, si in\n",
              "            nostrum annum reciderit, firmior candidatus fore videatur, propterea quod curator est\n",
              "            viae Flaminiae † que cum erit absoluta sane facile eum libenter\n",
              "            nunc ceteri consuli acciderim†. <pb n=\"149\"/> <reg>petitorum</reg> haec est adhuc informata\n",
              "            cogitatio. <reg>nos</reg> in omni munere candidatorio fungendo summam adhibebimus\n",
              "            diligentiam et fortasse, quoniam videtur in suffragiis multum posse Gallia,\n",
              "            cum Romae a iudiciis forum refrixerit, excurremus mense\n",
              "              Septembri legati ad Pisonem ut Ianuario\n",
              "            revertamur. <reg>cum</reg> perspexero voluntates nobilium, scribam ad te.\n",
              "              <reg>cetera</reg> spero prolixa esse his dumtaxat urbanis competitoribus.\n",
              "              <reg>illam</reg> manum tu mihi <pb n=\"150\"/> cura ut praestes, quoniam propius abes,\n",
              "              Pompei, nostri amici. <reg>nega</reg> me ei iratum fore si ad mea comitia\n",
              "            non venerit. <reg>atque</reg> haec huius modi sunt. <milestone ed=\"P\" unit=\"para\"/>\n",
              "<milestone n=\"3\" unit=\"section\"/>\n",
              "<reg>sed</reg> est quod abs te mihi ignosci pervelim. Caecilius, avunculus\n",
              "            tuus, a P. Vario cum magna pecunia fraudaretur, agere coepit cum\n",
              "            eius fratre A. Caninio Satyro de iis rebus quas eum dolo malo\n",
              "            mancipio accepisse de Vario diceret. una agebant ceteri creditores, in\n",
              "            quibus erat <hi rend=\"italic\">L.</hi>\n",
              "            Lucullus et P. Scipio et is quem putabant magistrum\n",
              "            fore si bona venirent, L. Pontius. <reg>verum</reg> hoc ridiculum\n",
              "            est de magistro. <reg>nunc</reg> cognosce rem. <reg>rogavit</reg> me\n",
              "              Caecilius ut adessem contra Satyrum. <reg>dies</reg>\n",
              "            fere nullus est quin hic Satyrus domum meam ventitet; observat\n",
              "              L. Domitium maxime, me habet proximum; fuit et mihi et\n",
              "              Quinto fratri magno usui in nostris petitionibus. <milestone ed=\"P\" unit=\"para\"/>\n",
              "<milestone n=\"4\" unit=\"section\"/>\n",
              "<reg>sane</reg> sum perturbatus cum ipsius Satyri familiaritate tum\n",
              "              Domiti, in quo uno maxime ambitio nostra nititur. <reg>demonstravi</reg>\n",
              "            haec Caecilio simul et illud ostendi, si ipse unus cum illo uno\n",
              "            contenderet, me ei satis facturum fuisse; nunc in causa universorum creditorum, hominum\n",
              "            praesertim amplissimorum, qui sine eo quem Caecilius suo nomine perhiberet\n",
              "            facile causam communem sustinerent, aequum esse eum et officio meo consulere et tempori.\n",
              "              <reg>durius</reg> accipere hoc mihi visus est quam vellem et quam homines belli <pb n=\"151\"/>\n",
              "            solent, et postea prorsus ab instituta nostra paucorum dierum consuetudine longe\n",
              "            refugit. <milestone ed=\"P\" unit=\"para\"/><reg>abs</reg> te peto ut mihi hoc ignoscas et\n",
              "            me existimes humanitate esse prohibitum <hi rend=\"italic\">ne contra</hi> amici summam\n",
              "            existimationem miserrimo eius tempore venirem, cum is omnia sua studia et officia in me\n",
              "            contulisset. <reg>quod</reg> si voles in me esse durior, ambitionem putabis mihi\n",
              "            obstitisse. <reg>ego</reg> autem arbitror, etiam si id sit, mihi ignoscendum esse,\n",
              "              <quote lang=\"greek\">e)pei\\ ou)x i(erh/i+on ou)de\\ boei/+hn.</quote>\n",
              "<reg>vides</reg> enim in quo cursu simus et quam omnis gratias non modo retinendas verum\n",
              "            etiam acquirendas putemus. <reg>spero</reg> tibi me causam probasse, cupio quidem certe.\n",
              "              <milestone ed=\"P\" unit=\"para\"/>\n",
              "<milestone n=\"5\" unit=\"section\"/>\n",
              "            Hermathena <pb n=\"152\"/> tua valde me delectat et posita ita belle est ut totum gymnasium\n",
              "            eius <foreign lang=\"greek\">a)na/qhma</foreign> esse videatur. <reg>multum</reg> te\n",
              "            amamus. </p>\n",
              "</div2>"
            ]
          },
          "metadata": {},
          "execution_count": 73
        }
      ]
    },
    {
      "cell_type": "code",
      "source": [
        "import re # need to use regular expressions to do some cleaning, we'll revisit this too\n",
        "\n",
        "letters = []\n",
        "for d in soup.find_all('div2'):\n",
        "    dateline = d.dateline.extract().get_text().strip()\n",
        "    salute = d.salute.extract().get_text().strip()\n",
        "    text = re.sub(r'\\s+', ' ', d.get_text().strip().replace('\\n', ''))\n",
        "    letters.append([dateline, salute, text])\n",
        "\n",
        "print(letters[0])"
      ],
      "metadata": {
        "colab": {
          "base_uri": "https://localhost:8080/"
        },
        "id": "pspFq38pm1o0",
        "outputId": "ebb54113-44e0-4726-8d61-2177efbdab51"
      },
      "execution_count": 74,
      "outputs": [
        {
          "output_type": "stream",
          "name": "stdout",
          "text": [
            "['Scr. Romae m. Quint. a. 689 (65).', 'CICERO ATTICO salutem', 'petitionis nostrae, quam tibi summae curae esse scio, huius modi ratio est quod adhuc coniectura provideri possit. prensat unus P. Galba. sine fuco ac fallaciis more maiorum negatur. ut opinio est hominum, non aliena rationi nostrae fuit illius haec praepropera prensatio. nam illi ita negant vulgo ut mihi se debere dicant. ita quiddam spero nobis profici, cum hoc percrebrescit, plurimos nostros amicos inveniri. nos autem initium prensandi facere cogitaramus eo ipso tempore quo tuum puerum cum his litteris proficisci Cincius dicebat, in campo comitiis tribuniciis a. d. xvi Kalend. Sextilis. competitores, qui certi esse videantur, Galba et Antonius et Q. Cornificius. puto te in hoc aut risisse aut ingemuisse. ut frontem ferias, sunt qui etiam Caesonium putent. Aquilium non arbitrabamur, qui denegavit et iuravit morbum et illud suum regnum iudiciale opposuit. Catilina, si iudicatum erit meridie non lucere, certus erit competitor. de Aufidio et de Palicano non puto te exspectare dum scribam. de iis qui nunc petunt Caesar certus putatur. Thermus cum Silano contendere existimatur; qui sic inopes et ab amicis et existimatione sunt ut mihi videatur non esse a)du/naton Curium obducere. sed hoc praeter me nemini videtur. nostris rationibus maxime conducere videtur Thermum fieri cum Caesare. nemo est enim ex iis qui nunc petunt qui, si in nostrum annum reciderit, firmior candidatus fore videatur, propterea quod curator est viae Flaminiae † que cum erit absoluta sane facile eum libenter nunc ceteri consuli acciderim†. petitorum haec est adhuc informata cogitatio. nos in omni munere candidatorio fungendo summam adhibebimus diligentiam et fortasse, quoniam videtur in suffragiis multum posse Gallia, cum Romae a iudiciis forum refrixerit, excurremus mense Septembri legati ad Pisonem ut Ianuario revertamur. cum perspexero voluntates nobilium, scribam ad te. cetera spero prolixa esse his dumtaxat urbanis competitoribus. illam manum tu mihi cura ut praestes, quoniam propius abes, Pompei, nostri amici. nega me ei iratum fore si ad mea comitia non venerit. atque haec huius modi sunt. sed est quod abs te mihi ignosci pervelim. Caecilius, avunculus tuus, a P. Vario cum magna pecunia fraudaretur, agere coepit cum eius fratre A. Caninio Satyro de iis rebus quas eum dolo malo mancipio accepisse de Vario diceret. una agebant ceteri creditores, in quibus erat L. Lucullus et P. Scipio et is quem putabant magistrum fore si bona venirent, L. Pontius. verum hoc ridiculum est de magistro. nunc cognosce rem. rogavit me Caecilius ut adessem contra Satyrum. dies fere nullus est quin hic Satyrus domum meam ventitet; observat L. Domitium maxime, me habet proximum; fuit et mihi et Quinto fratri magno usui in nostris petitionibus. sane sum perturbatus cum ipsius Satyri familiaritate tum Domiti, in quo uno maxime ambitio nostra nititur. demonstravi haec Caecilio simul et illud ostendi, si ipse unus cum illo uno contenderet, me ei satis facturum fuisse; nunc in causa universorum creditorum, hominum praesertim amplissimorum, qui sine eo quem Caecilius suo nomine perhiberet facile causam communem sustinerent, aequum esse eum et officio meo consulere et tempori. durius accipere hoc mihi visus est quam vellem et quam homines belli solent, et postea prorsus ab instituta nostra paucorum dierum consuetudine longe refugit. abs te peto ut mihi hoc ignoscas et me existimes humanitate esse prohibitum ne contra amici summam existimationem miserrimo eius tempore venirem, cum is omnia sua studia et officia in me contulisset. quod si voles in me esse durior, ambitionem putabis mihi obstitisse. ego autem arbitror, etiam si id sit, mihi ignoscendum esse, e)pei\\\\ ou)x i(erh/i+on ou)de\\\\ boei/+hn.vides enim in quo cursu simus et quam omnis gratias non modo retinendas verum etiam acquirendas putemus. spero tibi me causam probasse, cupio quidem certe. Hermathena tua valde me delectat et posita ita belle est ut totum gymnasium eius a)na/qhma esse videatur. multum te amamus.']\n"
          ]
        }
      ]
    },
    {
      "cell_type": "code",
      "source": [
        "# now we can use pandas to store the data for each letter\n",
        "import pandas as pd\n",
        "\n",
        "df = pd.DataFrame(letters, columns=['dateline', 'salute', 'text'])\n",
        "df.head()"
      ],
      "metadata": {
        "colab": {
          "base_uri": "https://localhost:8080/",
          "height": 206
        },
        "id": "1g09ZPtWm1kL",
        "outputId": "f0c01dc3-3d59-4870-fd61-a76744347b91"
      },
      "execution_count": 75,
      "outputs": [
        {
          "output_type": "execute_result",
          "data": {
            "text/plain": [
              "                                   dateline                 salute  \\\n",
              "0         Scr. Romae m. Quint. a. 689 (65).  CICERO ATTICO salutem   \n",
              "1  Scr. Romae paulo post ep. 1 a. 689 (65).  CICERO ATTICO salutem   \n",
              "2               Scr. Romae ex. a. 687 (67).  CICERO ATTICO salutem   \n",
              "3                Scr. Romae in a. 688 (66).  CICERO ATTICO salutem   \n",
              "4          Scr. Romae initio anni 687 (67).  CICERO ATTICO salutem   \n",
              "\n",
              "                                                text  \n",
              "0  petitionis nostrae, quam tibi summae curae ess...  \n",
              "1  L. Iulio Caesare, C. Marcio Figulo consulibus ...  \n",
              "2  aviam tuam scito desiderio tui mortuam esse et...  \n",
              "3  crebras exspectationes nobis tui commoves. nup...  \n",
              "4  quantum dolorem acceperim et quanto fructu sim...  "
            ],
            "text/html": [
              "\n",
              "  <div id=\"df-70949d1b-944a-4cdd-87b9-d72150d596c6\" class=\"colab-df-container\">\n",
              "    <div>\n",
              "<style scoped>\n",
              "    .dataframe tbody tr th:only-of-type {\n",
              "        vertical-align: middle;\n",
              "    }\n",
              "\n",
              "    .dataframe tbody tr th {\n",
              "        vertical-align: top;\n",
              "    }\n",
              "\n",
              "    .dataframe thead th {\n",
              "        text-align: right;\n",
              "    }\n",
              "</style>\n",
              "<table border=\"1\" class=\"dataframe\">\n",
              "  <thead>\n",
              "    <tr style=\"text-align: right;\">\n",
              "      <th></th>\n",
              "      <th>dateline</th>\n",
              "      <th>salute</th>\n",
              "      <th>text</th>\n",
              "    </tr>\n",
              "  </thead>\n",
              "  <tbody>\n",
              "    <tr>\n",
              "      <th>0</th>\n",
              "      <td>Scr. Romae m. Quint. a. 689 (65).</td>\n",
              "      <td>CICERO ATTICO salutem</td>\n",
              "      <td>petitionis nostrae, quam tibi summae curae ess...</td>\n",
              "    </tr>\n",
              "    <tr>\n",
              "      <th>1</th>\n",
              "      <td>Scr. Romae paulo post ep. 1 a. 689 (65).</td>\n",
              "      <td>CICERO ATTICO salutem</td>\n",
              "      <td>L. Iulio Caesare, C. Marcio Figulo consulibus ...</td>\n",
              "    </tr>\n",
              "    <tr>\n",
              "      <th>2</th>\n",
              "      <td>Scr. Romae ex. a. 687 (67).</td>\n",
              "      <td>CICERO ATTICO salutem</td>\n",
              "      <td>aviam tuam scito desiderio tui mortuam esse et...</td>\n",
              "    </tr>\n",
              "    <tr>\n",
              "      <th>3</th>\n",
              "      <td>Scr. Romae in a. 688 (66).</td>\n",
              "      <td>CICERO ATTICO salutem</td>\n",
              "      <td>crebras exspectationes nobis tui commoves. nup...</td>\n",
              "    </tr>\n",
              "    <tr>\n",
              "      <th>4</th>\n",
              "      <td>Scr. Romae initio anni 687 (67).</td>\n",
              "      <td>CICERO ATTICO salutem</td>\n",
              "      <td>quantum dolorem acceperim et quanto fructu sim...</td>\n",
              "    </tr>\n",
              "  </tbody>\n",
              "</table>\n",
              "</div>\n",
              "    <div class=\"colab-df-buttons\">\n",
              "\n",
              "  <div class=\"colab-df-container\">\n",
              "    <button class=\"colab-df-convert\" onclick=\"convertToInteractive('df-70949d1b-944a-4cdd-87b9-d72150d596c6')\"\n",
              "            title=\"Convert this dataframe to an interactive table.\"\n",
              "            style=\"display:none;\">\n",
              "\n",
              "  <svg xmlns=\"http://www.w3.org/2000/svg\" height=\"24px\" viewBox=\"0 -960 960 960\">\n",
              "    <path d=\"M120-120v-720h720v720H120Zm60-500h600v-160H180v160Zm220 220h160v-160H400v160Zm0 220h160v-160H400v160ZM180-400h160v-160H180v160Zm440 0h160v-160H620v160ZM180-180h160v-160H180v160Zm440 0h160v-160H620v160Z\"/>\n",
              "  </svg>\n",
              "    </button>\n",
              "\n",
              "  <style>\n",
              "    .colab-df-container {\n",
              "      display:flex;\n",
              "      gap: 12px;\n",
              "    }\n",
              "\n",
              "    .colab-df-convert {\n",
              "      background-color: #E8F0FE;\n",
              "      border: none;\n",
              "      border-radius: 50%;\n",
              "      cursor: pointer;\n",
              "      display: none;\n",
              "      fill: #1967D2;\n",
              "      height: 32px;\n",
              "      padding: 0 0 0 0;\n",
              "      width: 32px;\n",
              "    }\n",
              "\n",
              "    .colab-df-convert:hover {\n",
              "      background-color: #E2EBFA;\n",
              "      box-shadow: 0px 1px 2px rgba(60, 64, 67, 0.3), 0px 1px 3px 1px rgba(60, 64, 67, 0.15);\n",
              "      fill: #174EA6;\n",
              "    }\n",
              "\n",
              "    .colab-df-buttons div {\n",
              "      margin-bottom: 4px;\n",
              "    }\n",
              "\n",
              "    [theme=dark] .colab-df-convert {\n",
              "      background-color: #3B4455;\n",
              "      fill: #D2E3FC;\n",
              "    }\n",
              "\n",
              "    [theme=dark] .colab-df-convert:hover {\n",
              "      background-color: #434B5C;\n",
              "      box-shadow: 0px 1px 3px 1px rgba(0, 0, 0, 0.15);\n",
              "      filter: drop-shadow(0px 1px 2px rgba(0, 0, 0, 0.3));\n",
              "      fill: #FFFFFF;\n",
              "    }\n",
              "  </style>\n",
              "\n",
              "    <script>\n",
              "      const buttonEl =\n",
              "        document.querySelector('#df-70949d1b-944a-4cdd-87b9-d72150d596c6 button.colab-df-convert');\n",
              "      buttonEl.style.display =\n",
              "        google.colab.kernel.accessAllowed ? 'block' : 'none';\n",
              "\n",
              "      async function convertToInteractive(key) {\n",
              "        const element = document.querySelector('#df-70949d1b-944a-4cdd-87b9-d72150d596c6');\n",
              "        const dataTable =\n",
              "          await google.colab.kernel.invokeFunction('convertToInteractive',\n",
              "                                                    [key], {});\n",
              "        if (!dataTable) return;\n",
              "\n",
              "        const docLinkHtml = 'Like what you see? Visit the ' +\n",
              "          '<a target=\"_blank\" href=https://colab.research.google.com/notebooks/data_table.ipynb>data table notebook</a>'\n",
              "          + ' to learn more about interactive tables.';\n",
              "        element.innerHTML = '';\n",
              "        dataTable['output_type'] = 'display_data';\n",
              "        await google.colab.output.renderOutput(dataTable, element);\n",
              "        const docLink = document.createElement('div');\n",
              "        docLink.innerHTML = docLinkHtml;\n",
              "        element.appendChild(docLink);\n",
              "      }\n",
              "    </script>\n",
              "  </div>\n",
              "\n",
              "\n",
              "<div id=\"df-106109a6-3105-4b20-ad0d-56ba48bed993\">\n",
              "  <button class=\"colab-df-quickchart\" onclick=\"quickchart('df-106109a6-3105-4b20-ad0d-56ba48bed993')\"\n",
              "            title=\"Suggest charts\"\n",
              "            style=\"display:none;\">\n",
              "\n",
              "<svg xmlns=\"http://www.w3.org/2000/svg\" height=\"24px\"viewBox=\"0 0 24 24\"\n",
              "     width=\"24px\">\n",
              "    <g>\n",
              "        <path d=\"M19 3H5c-1.1 0-2 .9-2 2v14c0 1.1.9 2 2 2h14c1.1 0 2-.9 2-2V5c0-1.1-.9-2-2-2zM9 17H7v-7h2v7zm4 0h-2V7h2v10zm4 0h-2v-4h2v4z\"/>\n",
              "    </g>\n",
              "</svg>\n",
              "  </button>\n",
              "\n",
              "<style>\n",
              "  .colab-df-quickchart {\n",
              "      --bg-color: #E8F0FE;\n",
              "      --fill-color: #1967D2;\n",
              "      --hover-bg-color: #E2EBFA;\n",
              "      --hover-fill-color: #174EA6;\n",
              "      --disabled-fill-color: #AAA;\n",
              "      --disabled-bg-color: #DDD;\n",
              "  }\n",
              "\n",
              "  [theme=dark] .colab-df-quickchart {\n",
              "      --bg-color: #3B4455;\n",
              "      --fill-color: #D2E3FC;\n",
              "      --hover-bg-color: #434B5C;\n",
              "      --hover-fill-color: #FFFFFF;\n",
              "      --disabled-bg-color: #3B4455;\n",
              "      --disabled-fill-color: #666;\n",
              "  }\n",
              "\n",
              "  .colab-df-quickchart {\n",
              "    background-color: var(--bg-color);\n",
              "    border: none;\n",
              "    border-radius: 50%;\n",
              "    cursor: pointer;\n",
              "    display: none;\n",
              "    fill: var(--fill-color);\n",
              "    height: 32px;\n",
              "    padding: 0;\n",
              "    width: 32px;\n",
              "  }\n",
              "\n",
              "  .colab-df-quickchart:hover {\n",
              "    background-color: var(--hover-bg-color);\n",
              "    box-shadow: 0 1px 2px rgba(60, 64, 67, 0.3), 0 1px 3px 1px rgba(60, 64, 67, 0.15);\n",
              "    fill: var(--button-hover-fill-color);\n",
              "  }\n",
              "\n",
              "  .colab-df-quickchart-complete:disabled,\n",
              "  .colab-df-quickchart-complete:disabled:hover {\n",
              "    background-color: var(--disabled-bg-color);\n",
              "    fill: var(--disabled-fill-color);\n",
              "    box-shadow: none;\n",
              "  }\n",
              "\n",
              "  .colab-df-spinner {\n",
              "    border: 2px solid var(--fill-color);\n",
              "    border-color: transparent;\n",
              "    border-bottom-color: var(--fill-color);\n",
              "    animation:\n",
              "      spin 1s steps(1) infinite;\n",
              "  }\n",
              "\n",
              "  @keyframes spin {\n",
              "    0% {\n",
              "      border-color: transparent;\n",
              "      border-bottom-color: var(--fill-color);\n",
              "      border-left-color: var(--fill-color);\n",
              "    }\n",
              "    20% {\n",
              "      border-color: transparent;\n",
              "      border-left-color: var(--fill-color);\n",
              "      border-top-color: var(--fill-color);\n",
              "    }\n",
              "    30% {\n",
              "      border-color: transparent;\n",
              "      border-left-color: var(--fill-color);\n",
              "      border-top-color: var(--fill-color);\n",
              "      border-right-color: var(--fill-color);\n",
              "    }\n",
              "    40% {\n",
              "      border-color: transparent;\n",
              "      border-right-color: var(--fill-color);\n",
              "      border-top-color: var(--fill-color);\n",
              "    }\n",
              "    60% {\n",
              "      border-color: transparent;\n",
              "      border-right-color: var(--fill-color);\n",
              "    }\n",
              "    80% {\n",
              "      border-color: transparent;\n",
              "      border-right-color: var(--fill-color);\n",
              "      border-bottom-color: var(--fill-color);\n",
              "    }\n",
              "    90% {\n",
              "      border-color: transparent;\n",
              "      border-bottom-color: var(--fill-color);\n",
              "    }\n",
              "  }\n",
              "</style>\n",
              "\n",
              "  <script>\n",
              "    async function quickchart(key) {\n",
              "      const quickchartButtonEl =\n",
              "        document.querySelector('#' + key + ' button');\n",
              "      quickchartButtonEl.disabled = true;  // To prevent multiple clicks.\n",
              "      quickchartButtonEl.classList.add('colab-df-spinner');\n",
              "      try {\n",
              "        const charts = await google.colab.kernel.invokeFunction(\n",
              "            'suggestCharts', [key], {});\n",
              "      } catch (error) {\n",
              "        console.error('Error during call to suggestCharts:', error);\n",
              "      }\n",
              "      quickchartButtonEl.classList.remove('colab-df-spinner');\n",
              "      quickchartButtonEl.classList.add('colab-df-quickchart-complete');\n",
              "    }\n",
              "    (() => {\n",
              "      let quickchartButtonEl =\n",
              "        document.querySelector('#df-106109a6-3105-4b20-ad0d-56ba48bed993 button');\n",
              "      quickchartButtonEl.style.display =\n",
              "        google.colab.kernel.accessAllowed ? 'block' : 'none';\n",
              "    })();\n",
              "  </script>\n",
              "</div>\n",
              "\n",
              "    </div>\n",
              "  </div>\n"
            ],
            "application/vnd.google.colaboratory.intrinsic+json": {
              "type": "dataframe",
              "variable_name": "df",
              "summary": "{\n  \"name\": \"df\",\n  \"rows\": 446,\n  \"fields\": [\n    {\n      \"column\": \"dateline\",\n      \"properties\": {\n        \"dtype\": \"string\",\n        \"num_unique_values\": 434,\n        \"samples\": [\n          \"Scr. fort. in suburbano Siccae K. vesp. aut mane vi Non. Mai. a.\\n              709 (45).\",\n          \"Scr. in Cumano a. d. v. K. Mai. a. 699\\n              (55).\",\n          \"Scr. Rhodi circ. iv Id. Sext. a. 704 (50).\"\n        ],\n        \"semantic_type\": \"\",\n        \"description\": \"\"\n      }\n    },\n    {\n      \"column\": \"salute\",\n      \"properties\": {\n        \"dtype\": \"category\",\n        \"num_unique_values\": 29,\n        \"samples\": [\n          \"CICERO PLANCO PRAET. DES. S.\",\n          \"CICERO ATtiCO salutem\",\n          \"ANTONIVS TRIB. PL. PRO PR. CICERONI IMP. salutem\"\n        ],\n        \"semantic_type\": \"\",\n        \"description\": \"\"\n      }\n    },\n    {\n      \"column\": \"text\",\n      \"properties\": {\n        \"dtype\": \"string\",\n        \"num_unique_values\": 446,\n        \"samples\": [\n          \"quaero quod ad te scribam, sed nihil est: eadem cotidie. quod Lentulum invisis valde gratum. pueros attribue ei quot et quos videbitur. de Sili voluntate vendendi et de eo, quanti, tu vereri videris primum ne nolit, deinde ne tanti. Sicca aliter; sed tibi adsentior. qua re, ut ei placuit, scripsi ad Egnatium. quod Silius te cum Clodio loqui vult, potes id mea voluntate facere commodiusque est quam quod ille a me petit, me ipsum scribere ad Clodium. de mancipiis Castricianis commodissimum esse credo transigere Egnatium, quod scribis te ita futurum putare. cum Ovia, quaeso, vide ut conficiatur. quoniam, ut scribis, nox erat, in hodierna epistula plura exspecto.\",\n          \"Pollex quidem, ut dixerat ad Idus Sextilis, ita mihi Lanuvi pridie Idus praesto fuit, sed plane pollex, non index. cognosces igitur ex ipso. Balbum conveni\\u2014Lepta enim de sua munerum curatione laborans me ad eum perduxerat\\u2014in eo autem Lanuvino quod Lepido tradidit. ex eo hoc primum, Paulo ante acceperam eas litteras in quibus magno opere confirmat ante ludos Romanos.legi epistulam. multa de meo Catone, quo saepissime legendo se dicit copiosiorem factum, Bruti Catone lecto se sibi visum disertum. tum ex eo cognovi cretionem Cluvi Vestorium neglegentem!) liberam cretionem testibus praesentibus sexaginta diebus. metuebam ne ille arcessendus esset. nunc mittendum est ut meo iussu cernat. idem igitur Pollex. etiam de hortis Cluvianis egi cum Balbo. nil liberalius. se enim statim ad Caesarem scripturum, Cluvium autem a T. Hordeonio legare et Terentiae HS i\\u2183\\u2183\\u2183 et sepulcro multisque rebus, nihil a nobis. subaccusa, quaeso, Vestorium. quid minus probandum quam Plotium unguentarium per suos pueros omnia tanto ante Balbo, illum mi ne per meos quidem? de Cossinio doleo; dilexi hominem. Quinto delegabo si quid aeri meo alieno superabit et emptionibus ex quibus mi etiam aes alienum faciendum puto. de domo Arpini nil scio. Vestorium nil est quod accuses. iam enim obsignata hac epistula noctu tabellarius noster venit et ab eo litteras diligenter scriptas attulit et exemplum testamenti.\",\n          \"Tarsum venimus Nonis Iuniis. ibi me multa moverunt, magnum in Syria bellum, magna in Cilicia latrocinia, mihi difficilis ratio administrandi, quod paucos dies habebam reliquos annui muneris, illud autem difficillimum, relinquendus erat ex senatus consulto qui praeesset. nihil minus probari poterat quam quaestor Mescinius. nam de Coelio nihil audiebamus. rectissimum videbatur fratrem cum imperio relinquere; in quo multa molesta, discessus noster, belli periculum, militum improbitas, sescenta praeterea. o rem totam odiosam! sed haec fortuna viderit, quoniam consilio non multum uti licet. tu quando Romam salvus ut spero venisti, videbis, ut soles, omnia quae intelleges nostra interesse, imprimis de Tullia mea, cuius de condicione quid mihi placeret scripsi ad Terentiam cum tu in Graecia esses; deinde de honore nostro. quod enim tu afuisti, vereor ut satis diligenter actum in senatu sit de litteris meis. illud praeterea mustikw/teron ad te scribam, tu sagacius a odorabere. th=s da/marto/s mou o( a)peleu/qeros (oi)=sqa o(\\\\n le/gw) e)/doce/ moi prw/hn, e)c w(=n a)logeuo/menos parefqe/ggeto, pefurake/nai ta\\\\s yh/fous e)k th=s w)nh=s tw=n u(parxo/ntwn tw=n tou= *krotwnia/tou turannokto/nou. de/doika dh\\\\ mh/ ti \\u2020 noh/sh|s. \\u2020 ei(=s dh/pou tou=to dh\\\\ periskeya/menos ta\\\\ loipa\\\\ e)casfa/lisai.. non queo tantum quantum vereor scribere; tu autem fac ut mihi tuae litterae volent obviae. haec festinans scripsi in itinere atque agmine. Piliae et puellae Caeciliae bellissimae salutem dices.\"\n        ],\n        \"semantic_type\": \"\",\n        \"description\": \"\"\n      }\n    }\n  ]\n}"
            }
          },
          "metadata": {},
          "execution_count": 75
        }
      ]
    },
    {
      "cell_type": "code",
      "source": [
        "# example parse with one letter\n",
        "first_letter = df.text.iloc[0]\n",
        "first_letter_doc = nlp(first_letter)"
      ],
      "metadata": {
        "id": "JQaOP9HGpW-r"
      },
      "execution_count": 76,
      "outputs": []
    },
    {
      "cell_type": "code",
      "source": [
        "first_letter_entities = first_letter_doc.ents\n",
        "for i, entity in enumerate(first_letter_entities):\n",
        "    print(f\"Entity {i+1}: \", entity.text, \"| Entity Type: \", entity.label_, \"| Entity Lemma: \", entity.lemma_)\n",
        "# here I also print out the words lemma, the base form of the word for counting purposes\n",
        "# more on this next week"
      ],
      "metadata": {
        "colab": {
          "base_uri": "https://localhost:8080/"
        },
        "id": "NIta5Fx3pW8F",
        "outputId": "b4fda828-d78d-4a13-cf91-6240a9e4bd61"
      },
      "execution_count": 78,
      "outputs": [
        {
          "output_type": "stream",
          "name": "stdout",
          "text": [
            "Entity 1:  P. Galba | Entity Type:  PERSON | Entity Lemma:  P. Galba\n",
            "Entity 2:  Cincius | Entity Type:  PERSON | Entity Lemma:  Cincius\n",
            "Entity 3:  Galba | Entity Type:  PERSON | Entity Lemma:  Galba\n",
            "Entity 4:  Antonius | Entity Type:  PERSON | Entity Lemma:  Antonius\n",
            "Entity 5:  Q. Cornificius | Entity Type:  PERSON | Entity Lemma:  Q. Cornificus\n",
            "Entity 6:  Caesonium | Entity Type:  PERSON | Entity Lemma:  Caesonius\n",
            "Entity 7:  Aquilium | Entity Type:  PERSON | Entity Lemma:  Aquilius\n",
            "Entity 8:  Catilina | Entity Type:  PERSON | Entity Lemma:  Catilina\n",
            "Entity 9:  Aufidio | Entity Type:  PERSON | Entity Lemma:  Aufidius\n",
            "Entity 10:  Caesar | Entity Type:  PERSON | Entity Lemma:  Caesar\n",
            "Entity 11:  Thermus | Entity Type:  PERSON | Entity Lemma:  Thermus\n",
            "Entity 12:  Silano | Entity Type:  PERSON | Entity Lemma:  Silanus\n",
            "Entity 13:  Curium | Entity Type:  PERSON | Entity Lemma:  Curius\n",
            "Entity 14:  Thermum | Entity Type:  PERSON | Entity Lemma:  Thermus\n",
            "Entity 15:  Caesare | Entity Type:  PERSON | Entity Lemma:  Caesar\n",
            "Entity 16:  Flaminiae | Entity Type:  LOC | Entity Lemma:  Flaminius\n",
            "Entity 17:  Gallia | Entity Type:  LOC | Entity Lemma:  Gallia\n",
            "Entity 18:  Romae | Entity Type:  LOC | Entity Lemma:  Roma\n",
            "Entity 19:  Septembri | Entity Type:  LOC | Entity Lemma:  september\n",
            "Entity 20:  Pisonem | Entity Type:  PERSON | Entity Lemma:  Piso\n",
            "Entity 21:  Pompei | Entity Type:  PERSON | Entity Lemma:  Pompeius\n",
            "Entity 22:  Caecilius | Entity Type:  PERSON | Entity Lemma:  Caecilius\n",
            "Entity 23:  P. Vario | Entity Type:  PERSON | Entity Lemma:  P. Uarius\n",
            "Entity 24:  A. Caninio | Entity Type:  PERSON | Entity Lemma:  A. Caninius\n",
            "Entity 25:  Vario | Entity Type:  PERSON | Entity Lemma:  Uarius\n",
            "Entity 26:  L. Lucullus | Entity Type:  PERSON | Entity Lemma:  L. Lucullus\n",
            "Entity 27:  P. Scipio | Entity Type:  PERSON | Entity Lemma:  P. Scipio\n",
            "Entity 28:  L. Pontius | Entity Type:  PERSON | Entity Lemma:  L. Pontius\n",
            "Entity 29:  Caecilius | Entity Type:  PERSON | Entity Lemma:  Caecilius\n",
            "Entity 30:  Satyrum | Entity Type:  LOC | Entity Lemma:  Satyrus\n",
            "Entity 31:  Satyrus | Entity Type:  PERSON | Entity Lemma:  Satyrus\n",
            "Entity 32:  L. Domitium | Entity Type:  PERSON | Entity Lemma:  L. Domitius\n",
            "Entity 33:  Quinto | Entity Type:  PERSON | Entity Lemma:  Quintus\n",
            "Entity 34:  Satyri | Entity Type:  PERSON | Entity Lemma:  Satyrus\n",
            "Entity 35:  Domiti | Entity Type:  PERSON | Entity Lemma:  Domitius\n",
            "Entity 36:  Caecilio | Entity Type:  PERSON | Entity Lemma:  Caecilius\n",
            "Entity 37:  Caecilius | Entity Type:  PERSON | Entity Lemma:  Caecilius\n"
          ]
        }
      ]
    },
    {
      "cell_type": "code",
      "source": [
        "def get_entity_counts(text):\n",
        "    doc = nlp(text)\n",
        "    entities = doc.ents\n",
        "    entity_texts = [ent.lemma_ for ent in entities] # counting lemmas not text\n",
        "    entity_labels = [ent.label_ for ent in entities]\n",
        "    entity_counts = Counter(entity_texts)\n",
        "    entity_type_counts = Counter(entity_labels)\n",
        "    return entity_counts, entity_type_counts\n",
        "\n",
        "df['entity_counts'] = df.text.apply(get_entity_counts)\n",
        "df['entity_type_counts'] = df.entity_counts.apply(lambda x: x[1]) # taking the type counts\n",
        "df['entity_counts'] = df.entity_counts.apply(lambda x: x[0]) # taking the lemma counts"
      ],
      "metadata": {
        "id": "8urcdLl9pYJf"
      },
      "execution_count": 80,
      "outputs": []
    },
    {
      "cell_type": "code",
      "source": [
        "all_entity_counts = df.entity_counts.sum()\n",
        "all_type_counts = df.entity_type_counts.sum()"
      ],
      "metadata": {
        "id": "j-08G2U-pYHJ"
      },
      "execution_count": 84,
      "outputs": []
    },
    {
      "cell_type": "code",
      "source": [
        "# limiting the plot below to 15 so that there aren't too many\n",
        "top_15_entities = sorted(all_entity_counts.items(), key=lambda x: x[1], reverse=True)[:15]\n",
        "top_15_entities = dict(top_15_entities)\n",
        "top_15_entities"
      ],
      "metadata": {
        "colab": {
          "base_uri": "https://localhost:8080/"
        },
        "id": "GnfsM103uLKC",
        "outputId": "88ab8e78-8692-4fe5-e691-8cb1a91beb95"
      },
      "execution_count": 94,
      "outputs": [
        {
          "output_type": "execute_result",
          "data": {
            "text/plain": [
              "{'Caesar': 315,\n",
              " 'Pompeius': 243,\n",
              " 'Brutus': 204,\n",
              " 'Roma': 186,\n",
              " 'Quintus': 108,\n",
              " 'Antonius': 85,\n",
              " 'Italia': 73,\n",
              " 'Atticus': 71,\n",
              " 'Dolabella': 69,\n",
              " 'Cicero': 68,\n",
              " 'Brundisium': 66,\n",
              " 'Cato': 58,\n",
              " 'balbus': 55,\n",
              " 'Curio': 54,\n",
              " 'Capua': 52}"
            ]
          },
          "metadata": {},
          "execution_count": 94
        }
      ]
    },
    {
      "cell_type": "code",
      "source": [
        "plt.figure(figsize=(20, 10))\n",
        "plt.subplot(1, 2, 1)\n",
        "plt.barh(list(top_15_entities.keys()), list(top_15_entities.values()))\n",
        "plt.xlabel('Count')\n",
        "plt.ylabel('Entity')\n",
        "plt.title('Entity Counts')\n",
        "\n",
        "plt.subplot(1, 2, 2)\n",
        "plt.barh(list(all_type_counts.keys()), list(all_type_counts.values()))\n",
        "plt.xlabel('Count')\n",
        "plt.ylabel('Entity Type')\n",
        "plt.title('Entity Type Counts')\n",
        "\n",
        "plt.show()"
      ],
      "metadata": {
        "colab": {
          "base_uri": "https://localhost:8080/",
          "height": 508
        },
        "id": "QdmCIB2IpYEj",
        "outputId": "13b593b9-a7f4-4133-aca6-8325f51b9685"
      },
      "execution_count": 96,
      "outputs": [
        {
          "output_type": "display_data",
          "data": {
            "text/plain": [
              "<Figure size 2000x1000 with 2 Axes>"
            ],
            "image/png": "[encoded data removed]"
          },
          "metadata": {}
        }
      ]
    },
    {
      "cell_type": "markdown",
      "source": [
        "## Conclusion\n",
        "\n",
        "We've seen today how using specialized, pretrained models can help us do tasks like named entity recongition. We also worked on our Python skills in data parsing and plotting. In the next class, we will discuss some of the other features of `spaCy` models."
      ],
      "metadata": {
        "id": "IR3MA1UUuquf"
      }
    }
  ]
}