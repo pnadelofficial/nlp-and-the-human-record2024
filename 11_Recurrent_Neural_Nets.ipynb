{
  "nbformat": 4,
  "nbformat_minor": 0,
  "metadata": {
    "colab": {
      "provenance": [],
      "collapsed_sections": [
        "w7XeSWa-_ILZ",
        "tzjYwyy5Ogrn",
        "SafG9zXlePLU"
      ]
    },
    "kernelspec": {
      "name": "python3",
      "display_name": "Python 3"
    },
    "language_info": {
      "name": "python"
    },
    "accelerator": "GPU",
    "gpuClass": "standard"
  },
  "cells": [
    {
      "cell_type": "markdown",
      "source": [
        "# Machine Translation (mostly) from Scratch using `PyTorch`\n",
        "\n",
        "###### Peter Nadel (primary author), Kyle Monahan, Joseph Robertson\n",
        "\n",
        "In this workshop, we'll build a machine translator using the neural net framework, `PyTorch`. We will implement the transformer architecture to translate between French and English. We'll then see an example using another dataset.\n",
        "\n",
        "Adapted from: https://pytorch.org/tutorials/intermediate/seq2seq_translation_tutorial.html"
      ],
      "metadata": {
        "id": "27Yisrr-zoOo"
      }
    },
    {
      "cell_type": "markdown",
      "source": [
        "To make things run a bit faster, go to Runtime > Change runtime Type and select GPU under Hardware Accelerator."
      ],
      "metadata": {
        "id": "diAFxCp_IdBJ"
      }
    },
    {
      "cell_type": "code",
      "execution_count": null,
      "metadata": {
        "id": "s_Pq_RuIyCp7"
      },
      "outputs": [],
      "source": [
        "from __future__ import unicode_literals, print_function, division\n",
        "from io import open\n",
        "import unicodedata\n",
        "import string\n",
        "import re\n",
        "import random\n",
        "\n",
        "import torch\n",
        "import torch.nn as nn\n",
        "from torch import optim\n",
        "import torch.nn.functional as F\n",
        "\n",
        "device = torch.device(\"cuda\" if torch.cuda.is_available() else \"cpu\")"
      ]
    },
    {
      "cell_type": "markdown",
      "source": [
        "## Data\n",
        "\n",
        "For this example, we'll use the `eng-fra.txt` from the `data.zip` file linked from the `PyTorch` page. This file, and all of those which we will look at in this notebook, will be arranged in the following way:\n",
        "\n",
        "`sentence_i in lang1\\tsentence_i in lang2\\n`.\n",
        "\n",
        "It should be noted that this is where this file comes from: https://www.manythings.org/anki/. There are several other languages here, all with varying corpus sizes. I assume the `PyTorch` folks chose French/English translation because of the size of the corpus (~14000 aligned sentences). Later in the notebook, I'll switch out this large aligned corpus with one of the smaller corpuses to anticipate working with Dakota."
      ],
      "metadata": {
        "id": "4_8w7jXazQ27"
      }
    },
    {
      "cell_type": "code",
      "source": [
        "!wget 'https://tufts.box.com/shared/static/v5370zthsaiy5m5xqptv9clsndgyyx1i.zip'\n",
        "!mv v5370zthsaiy5m5xqptv9clsndgyyx1i.zip data.zip"
      ],
      "metadata": {
        "colab": {
          "base_uri": "https://localhost:8080/"
        },
        "id": "hpAC16sbKic5",
        "outputId": "ec98c2e6-0660-4a61-8e6c-2a34e1f7b5c1"
      },
      "execution_count": null,
      "outputs": [
        {
          "output_type": "stream",
          "name": "stdout",
          "text": [
            "--2023-03-27 18:04:20--  https://tufts.box.com/shared/static/v5370zthsaiy5m5xqptv9clsndgyyx1i.zip\n",
            "Resolving tufts.box.com (tufts.box.com)... 74.112.186.144\n",
            "Connecting to tufts.box.com (tufts.box.com)|74.112.186.144|:443... connected.\n",
            "HTTP request sent, awaiting response... 301 Moved Permanently\n",
            "Location: /public/static/v5370zthsaiy5m5xqptv9clsndgyyx1i.zip [following]\n",
            "--2023-03-27 18:04:21--  https://tufts.box.com/public/static/v5370zthsaiy5m5xqptv9clsndgyyx1i.zip\n",
            "Reusing existing connection to tufts.box.com:443.\n",
            "HTTP request sent, awaiting response... 301 Moved Permanently\n",
            "Location: https://tufts.app.box.com/public/static/v5370zthsaiy5m5xqptv9clsndgyyx1i.zip [following]\n",
            "--2023-03-27 18:04:21--  https://tufts.app.box.com/public/static/v5370zthsaiy5m5xqptv9clsndgyyx1i.zip\n",
            "Resolving tufts.app.box.com (tufts.app.box.com)... 74.112.186.144\n",
            "Connecting to tufts.app.box.com (tufts.app.box.com)|74.112.186.144|:443... connected.\n",
            "HTTP request sent, awaiting response... 302 Found\n",
            "Location: https://dl2.boxcloud.com/d/1/b1!I1gsfLkab6xff01hW4hSPBbJ4pEf5WOZKBffosrkgscCgGpPee7uirXn0tMES0WZGDQmqeFt4uJvubidwTxwoxbEM3lJrHQfhs3Pw9SM-x256oIbsBUnHOgoSnpzNNC5IwmnCjx-nt01mlz_1PiYCs3giWgU0pnJXaOztjhFNoTnHghjvsa1-EXan65OKSkoTkbfdZ_Nm9VOJ890m7uW0oyEJmaOLBYVaKrBIrof6750oGEWmkwbEiDYrsZHbehCiHeEj_PhiXxWT8PARTvQpu49GKVi9uUVMdJgx0oBROKc5K7cdAhCZMeiM2q1aZIOOyQ9t6rkzPsOJ5foU_Nt8NyFTRuMr4xKqJx0PmvNCOoJMv72rN8iv9b0YDyb2ffe-Rma8_nFwJub0iIKN-SFjOXxDKFcIYteNG5F3uerQS9N_5Lit0XWtLuFd4ydRF0J-IJCzBkp3iDZ3YKR1OhE4wYjIpchMe7b5EfaiTVhjQYCAA2c3hIrFAyDgHIdNDv_nuMVSxKI30QvqsAagxYVxRCiCchTu0dZxkA2eivcXHzcfdO77t2qjEIazb3BzKOY_an2BSLTvSYyumpDgChAy9rC1h6C8FfHUNqy6-WCVsefJVoNLLZY4THTApz4Cb02cmjxQeT4FRo6M4M7Lylv6sC9LwRvH61HW7L7jlhCfXOeAqV89tdaf_-lx7NCReptiVKbVrBVIhW_f7xgcllFK1SvExBkQTlH0nov4hXXeKjDzmUkVObLUJVAj47937MDxVnjl49nlxsSb5OHmlOL4tRztUh99yvnzXi84p7sq5XYrw3Eif2sn0ZTdmzZUoe1IFb_6bYelO4H1NM0C8TOHGMS7gN-ejdfJD_Wnrb-a3h9TMQTLQQi-swsJyEiyB5t2yx8bPxDTiENb71XWHj2eMM_XDAGJVCykyd-UXbJSr2e9PWV27_JXrkOglCkEBK-SZpln1I7aMvqJ23k3B_4moT7sXsFBH17dpVRCGSQkIg97rK27KKVyge88_uckqqsMBz3zB0Ha18ijgvwDkbjkm1WC7Zd7gjgOjXt8xUilz3FZg2q8U1IDj1j_deY7_Gsd5pstV5GFXpUoim1a69Ex3-zWMgeu_3QaEIICENBbB3Fnn4xSU1Zp2jlzMEFr_Lm4d22VnDEYF0mUAXz9lAKWkFBMl6fcA7iFaFemRU1VSmTK_xiDnPs7_lJmwk91kgmdmQOHO5rQuRXdt1ACM96WFrq0CLtWxkVwBM6JWSpNoNLzJ5vtDzNK-CgGmkd6GhqUWFuJwmXScnQ9pHzLkmUS068wrx0xv_FTr_f7WCm9ZNnudO6ZLzI3QMk7URKdWct188GwP4KKZsE8vYP13LhPqV48K2IxNXHvoyvAcxcINbQW7T5TpKr7i60wbpmbw-8Wl6V/download [following]\n",
            "--2023-03-27 18:04:22--  https://dl2.boxcloud.com/d/1/b1!I1gsfLkab6xff01hW4hSPBbJ4pEf5WOZKBffosrkgscCgGpPee7uirXn0tMES0WZGDQmqeFt4uJvubidwTxwoxbEM3lJrHQfhs3Pw9SM-x256oIbsBUnHOgoSnpzNNC5IwmnCjx-nt01mlz_1PiYCs3giWgU0pnJXaOztjhFNoTnHghjvsa1-EXan65OKSkoTkbfdZ_Nm9VOJ890m7uW0oyEJmaOLBYVaKrBIrof6750oGEWmkwbEiDYrsZHbehCiHeEj_PhiXxWT8PARTvQpu49GKVi9uUVMdJgx0oBROKc5K7cdAhCZMeiM2q1aZIOOyQ9t6rkzPsOJ5foU_Nt8NyFTRuMr4xKqJx0PmvNCOoJMv72rN8iv9b0YDyb2ffe-Rma8_nFwJub0iIKN-SFjOXxDKFcIYteNG5F3uerQS9N_5Lit0XWtLuFd4ydRF0J-IJCzBkp3iDZ3YKR1OhE4wYjIpchMe7b5EfaiTVhjQYCAA2c3hIrFAyDgHIdNDv_nuMVSxKI30QvqsAagxYVxRCiCchTu0dZxkA2eivcXHzcfdO77t2qjEIazb3BzKOY_an2BSLTvSYyumpDgChAy9rC1h6C8FfHUNqy6-WCVsefJVoNLLZY4THTApz4Cb02cmjxQeT4FRo6M4M7Lylv6sC9LwRvH61HW7L7jlhCfXOeAqV89tdaf_-lx7NCReptiVKbVrBVIhW_f7xgcllFK1SvExBkQTlH0nov4hXXeKjDzmUkVObLUJVAj47937MDxVnjl49nlxsSb5OHmlOL4tRztUh99yvnzXi84p7sq5XYrw3Eif2sn0ZTdmzZUoe1IFb_6bYelO4H1NM0C8TOHGMS7gN-ejdfJD_Wnrb-a3h9TMQTLQQi-swsJyEiyB5t2yx8bPxDTiENb71XWHj2eMM_XDAGJVCykyd-UXbJSr2e9PWV27_JXrkOglCkEBK-SZpln1I7aMvqJ23k3B_4moT7sXsFBH17dpVRCGSQkIg97rK27KKVyge88_uckqqsMBz3zB0Ha18ijgvwDkbjkm1WC7Zd7gjgOjXt8xUilz3FZg2q8U1IDj1j_deY7_Gsd5pstV5GFXpUoim1a69Ex3-zWMgeu_3QaEIICENBbB3Fnn4xSU1Zp2jlzMEFr_Lm4d22VnDEYF0mUAXz9lAKWkFBMl6fcA7iFaFemRU1VSmTK_xiDnPs7_lJmwk91kgmdmQOHO5rQuRXdt1ACM96WFrq0CLtWxkVwBM6JWSpNoNLzJ5vtDzNK-CgGmkd6GhqUWFuJwmXScnQ9pHzLkmUS068wrx0xv_FTr_f7WCm9ZNnudO6ZLzI3QMk7URKdWct188GwP4KKZsE8vYP13LhPqV48K2IxNXHvoyvAcxcINbQW7T5TpKr7i60wbpmbw-8Wl6V/download\n",
            "Resolving dl2.boxcloud.com (dl2.boxcloud.com)... 74.112.186.128\n",
            "Connecting to dl2.boxcloud.com (dl2.boxcloud.com)|74.112.186.128|:443... connected.\n",
            "HTTP request sent, awaiting response... 200 OK\n",
            "Length: 2882130 (2.7M) [application/zip]\n",
            "Saving to: ‘v5370zthsaiy5m5xqptv9clsndgyyx1i.zip’\n",
            "\n",
            "v5370zthsaiy5m5xqpt 100%[===================>]   2.75M  2.60MB/s    in 1.1s    \n",
            "\n",
            "2023-03-27 18:04:25 (2.60 MB/s) - ‘v5370zthsaiy5m5xqptv9clsndgyyx1i.zip’ saved [2882130/2882130]\n",
            "\n"
          ]
        }
      ]
    },
    {
      "cell_type": "code",
      "source": [
        "!unzip data.zip"
      ],
      "metadata": {
        "colab": {
          "base_uri": "https://localhost:8080/"
        },
        "id": "b-p-kjc8ymWF",
        "outputId": "a3a313af-6ade-4448-aa2b-f0708944882b"
      },
      "execution_count": null,
      "outputs": [
        {
          "output_type": "stream",
          "name": "stdout",
          "text": [
            "Archive:  data.zip\n",
            "   creating: data/\n",
            "  inflating: data/eng-fra.txt        \n",
            "   creating: data/names/\n",
            "  inflating: data/names/Arabic.txt   \n",
            "  inflating: data/names/Chinese.txt  \n",
            "  inflating: data/names/Czech.txt    \n",
            "  inflating: data/names/Dutch.txt    \n",
            "  inflating: data/names/English.txt  \n",
            "  inflating: data/names/French.txt   \n",
            "  inflating: data/names/German.txt   \n",
            "  inflating: data/names/Greek.txt    \n",
            "  inflating: data/names/Irish.txt    \n",
            "  inflating: data/names/Italian.txt  \n",
            "  inflating: data/names/Japanese.txt  \n",
            "  inflating: data/names/Korean.txt   \n",
            "  inflating: data/names/Polish.txt   \n",
            "  inflating: data/names/Portuguese.txt  \n",
            "  inflating: data/names/Russian.txt  \n",
            "  inflating: data/names/Scottish.txt  \n",
            "  inflating: data/names/Spanish.txt  \n",
            "  inflating: data/names/Vietnamese.txt  \n"
          ]
        }
      ]
    },
    {
      "cell_type": "code",
      "source": [
        "data_path = 'data/eng-fra.txt'"
      ],
      "metadata": {
        "id": "Gyu2KIrvyzoK"
      },
      "execution_count": null,
      "outputs": []
    },
    {
      "cell_type": "markdown",
      "source": [
        "Before we can dig into this file, we need to make a class that will help us keep track of all of the words in our corpus. In particular, we need this case to do two things:\n",
        "\n",
        "*   Give each word a unique ID\n",
        "*   One-hot encode each word at the index of its ID\n",
        "*   This class will also give us the opportunity to encode our start of sentence (SOS) and end of sentence (EOS) tokens, which we'll place at the beginning and end of each sentence.\n",
        "\n",
        "Let's start by tracking how many times each word occurs."
      ],
      "metadata": {
        "id": "3hDNZH6X1VS4"
      }
    },
    {
      "cell_type": "code",
      "source": [
        "SOS_token = 0\n",
        "EOS_token = 1\n",
        "\n",
        "\n",
        "class Lang:\n",
        "    def __init__(self, name):\n",
        "        self.name = name\n",
        "        self.word2index = {}\n",
        "        self.word2count = {}\n",
        "        self.index2word = {0: \"SOS\", 1: \"EOS\"}\n",
        "        self.n_words = 2  # Count SOS and EOS\n",
        "\n",
        "    def addSentence(self, sentence):\n",
        "        word_list = sentence.replace('\\t', ' ').split(' ')\n",
        "        for word in word_list:\n",
        "            self.addWord(word)\n",
        "\n",
        "    def addWord(self, word):\n",
        "        if word not in self.word2index:\n",
        "            self.word2index[word] = self.n_words\n",
        "            self.word2count[word] = 1\n",
        "            self.index2word[self.n_words] = word\n",
        "            self.n_words += 1 # increments on each new word\n",
        "        else:\n",
        "            self.word2count[word] += 1 # increments on individual word"
      ],
      "metadata": {
        "id": "lH0TuWEu0R9a"
      },
      "execution_count": null,
      "outputs": []
    },
    {
      "cell_type": "code",
      "source": [
        "ex_data = open(data_path).readlines()\n",
        "ex_data[300]"
      ],
      "metadata": {
        "colab": {
          "base_uri": "https://localhost:8080/",
          "height": 36
        },
        "id": "0gmU8ZZs3qIU",
        "outputId": "6acacf02-b184-4455-91b8-e930a3178f64"
      },
      "execution_count": null,
      "outputs": [
        {
          "output_type": "execute_result",
          "data": {
            "text/plain": [
              "\"I'm tidy.\\tJe suis ordonnée.\\n\""
            ],
            "application/vnd.google.colaboratory.intrinsic+json": {
              "type": "string"
            }
          },
          "metadata": {},
          "execution_count": 38
        }
      ]
    },
    {
      "cell_type": "code",
      "source": [
        "ex = Lang('ex')\n",
        "ex.addSentence(ex_data[300])"
      ],
      "metadata": {
        "id": "nNOhZkrb5_NT"
      },
      "execution_count": null,
      "outputs": []
    },
    {
      "cell_type": "code",
      "source": [
        "ex.word2index"
      ],
      "metadata": {
        "colab": {
          "base_uri": "https://localhost:8080/"
        },
        "id": "z1FkKzKb4Tda",
        "outputId": "45638145-82e4-4291-f2c4-6f5a955af4ce"
      },
      "execution_count": null,
      "outputs": [
        {
          "output_type": "execute_result",
          "data": {
            "text/plain": [
              "{\"I'm\": 2, 'ugly.': 3, 'Je': 4, 'suis': 5, 'laid.\\n': 6}"
            ]
          },
          "metadata": {},
          "execution_count": 15
        }
      ]
    },
    {
      "cell_type": "code",
      "source": [
        "ex.word2count"
      ],
      "metadata": {
        "colab": {
          "base_uri": "https://localhost:8080/"
        },
        "id": "cC_d9-4J4eAV",
        "outputId": "df585448-1599-4485-dd7c-a476305fb671"
      },
      "execution_count": null,
      "outputs": [
        {
          "output_type": "execute_result",
          "data": {
            "text/plain": [
              "{\"I'm\": 1, 'ugly.': 1, 'Je': 1, 'suis': 1, 'laid.\\n': 1}"
            ]
          },
          "metadata": {},
          "execution_count": 16
        }
      ]
    },
    {
      "cell_type": "code",
      "source": [
        "ex.index2word"
      ],
      "metadata": {
        "colab": {
          "base_uri": "https://localhost:8080/"
        },
        "id": "5nhrW0Nq4fie",
        "outputId": "0c2df7ca-004d-429e-85d1-f1c2b59937a7"
      },
      "execution_count": null,
      "outputs": [
        {
          "output_type": "execute_result",
          "data": {
            "text/plain": [
              "{0: 'SOS', 1: 'EOS', 2: \"I'm\", 3: 'ugly.', 4: 'Je', 5: 'suis', 6: 'laid.\\n'}"
            ]
          },
          "metadata": {},
          "execution_count": 17
        }
      ]
    },
    {
      "cell_type": "markdown",
      "source": [
        "We have a slight problem here. `I'm` is not a word. Instead, it's two words. In fact, we want our model to be able to understand contractions like this, but we'll first need to strip out all of the punctuation.\n",
        "\n",
        "Too, because this data is `unicode` encoded, we'll need to convert it to `ASCII`. This step will be especially important when we need to work with languages that do not use the Latin alphabet.\n",
        "\n",
        "The code below does both."
      ],
      "metadata": {
        "id": "3wDHWpZR625z"
      }
    },
    {
      "cell_type": "code",
      "source": [
        "def unicodeToAscii(s):\n",
        "    return ''.join(\n",
        "        c for c in unicodedata.normalize('NFD', s)\n",
        "        if unicodedata.category(c) != 'Mn'\n",
        "    )\n",
        "\n",
        "def normalizeString(s):\n",
        "    s = unicodeToAscii(s.lower().strip())\n",
        "    s = re.sub(r\"([.!?])\", r\" \\1\", s)\n",
        "    s = re.sub(r\"[^a-zA-Z.!?]+\", r\" \", s)\n",
        "    return s"
      ],
      "metadata": {
        "id": "eytSMSVW62NB"
      },
      "execution_count": null,
      "outputs": []
    },
    {
      "cell_type": "code",
      "source": [
        "# split up I'm and normalized the text\n",
        "# we'll turn i m -> i am soon\n",
        "normalizeString(ex_data[300])"
      ],
      "metadata": {
        "colab": {
          "base_uri": "https://localhost:8080/",
          "height": 36
        },
        "id": "Q2AuQDMc4hJ9",
        "outputId": "f01bf9bb-62aa-49cf-cae1-02a05d0beeae"
      },
      "execution_count": null,
      "outputs": [
        {
          "output_type": "execute_result",
          "data": {
            "text/plain": [
              "'i m ugly . je suis laid .'"
            ],
            "application/vnd.google.colaboratory.intrinsic+json": {
              "type": "string"
            }
          },
          "metadata": {},
          "execution_count": 19
        }
      ]
    },
    {
      "cell_type": "markdown",
      "source": [
        "Now we can set up a method to read in the whole file, pair up the aligned sentences and read them into our `Lang` class. We'll keep it as general as possible so we can swap in another dataset later."
      ],
      "metadata": {
        "id": "SO4LQAjw8_Vb"
      }
    },
    {
      "cell_type": "code",
      "source": [
        "def readLangs(lang1, lang2, reverse=False):\n",
        "    print(\"Reading lines...\")\n",
        "\n",
        "    # Read the file and split into lines\n",
        "    lines = open(f'data/{lang1}-{lang2}.txt', encoding='utf-8').read().strip().split('\\n')\n",
        "\n",
        "    # Split every line on the tab character and normalize\n",
        "    pairs = [[normalizeString(s) for s in l.split('\\t')] for l in lines]\n",
        "\n",
        "    # Reverse pairs for when we want to go from lang2 to lang1\n",
        "    if reverse:\n",
        "        pairs = [list(reversed(p)) for p in pairs]\n",
        "        input_lang = Lang(lang2)\n",
        "        output_lang = Lang(lang1)\n",
        "    else:\n",
        "        input_lang = Lang(lang1)\n",
        "        output_lang = Lang(lang2)\n",
        "\n",
        "    return input_lang, output_lang, pairs"
      ],
      "metadata": {
        "id": "Ef_I2jCp8HCY"
      },
      "execution_count": null,
      "outputs": []
    },
    {
      "cell_type": "markdown",
      "source": [
        "We also want a way to control the size of the sentence that we'll pass into our translator. Right now, we want to train a translator quickly so we'll set it to be small, but we can increase this for a better translator (that will take longer to train)."
      ],
      "metadata": {
        "id": "qB6H9taO94Sd"
      }
    },
    {
      "cell_type": "code",
      "source": [
        "MAX_LENGTH = 50\n",
        "\n",
        "# dealing with most contractions\n",
        "eng_prefixes = (\n",
        "    \"i am \", \"i m \",\n",
        "    \"he is\", \"he s \",\n",
        "    \"she is\", \"she s \",\n",
        "    \"you are\", \"you re \",\n",
        "    \"we are\", \"we re \",\n",
        "    \"they are\", \"they re \"\n",
        ")\n",
        "\n",
        "\n",
        "def filterPair(p):\n",
        "    return len(p[0].split(' ')) < MAX_LENGTH and len(p[1].split(' ')) < MAX_LENGTH and p[1].startswith(eng_prefixes)\n",
        "\n",
        "def filterPairs(pairs):\n",
        "    return [pair for pair in pairs if filterPair(pair)]"
      ],
      "metadata": {
        "id": "0I3uw7Gd9jXB"
      },
      "execution_count": null,
      "outputs": []
    },
    {
      "cell_type": "markdown",
      "source": [
        "The full data processing pipeline is as follows:\n",
        "\n",
        "*   Read text file and split into lines, then split those lines into pairs\n",
        "*   Normalize each pair and filter by length\n",
        "*   Make word lists from the sentence pairs\n",
        "\n",
        "We can stack everything together in the function below."
      ],
      "metadata": {
        "id": "nzd5fSs7-mLg"
      }
    },
    {
      "cell_type": "code",
      "source": [
        "def prepareData(lang1, lang2, reverse=False):\n",
        "    input_lang, output_lang, pairs = readLangs(lang1, lang2, reverse)\n",
        "    print(\"Read %s sentence pairs\" % len(pairs))\n",
        "    pairs = filterPairs(pairs)\n",
        "    print(\"Trimmed to %s sentence pairs\" % len(pairs))\n",
        "    print(\"Counting words...\")\n",
        "    for pair in pairs:\n",
        "        input_lang.addSentence(pair[0])\n",
        "        output_lang.addSentence(pair[1])\n",
        "    print(\"Counted words:\")\n",
        "    print(input_lang.name, input_lang.n_words)\n",
        "    print(output_lang.name, output_lang.n_words)\n",
        "    return input_lang, output_lang, pairs"
      ],
      "metadata": {
        "id": "HRJsD75s-kPL"
      },
      "execution_count": null,
      "outputs": []
    },
    {
      "cell_type": "code",
      "source": [
        "input_lang, output_lang, pairs = prepareData('eng', 'fra', True)\n",
        "print(random.choice(pairs))"
      ],
      "metadata": {
        "colab": {
          "base_uri": "https://localhost:8080/"
        },
        "id": "Yp-56Fkq--dl",
        "outputId": "e1d5bbf6-4859-451c-acba-4976e7b2412d"
      },
      "execution_count": null,
      "outputs": [
        {
          "output_type": "stream",
          "name": "stdout",
          "text": [
            "Reading lines...\n",
            "Read 135842 sentence pairs\n",
            "Trimmed to 13067 sentence pairs\n",
            "Counting words...\n",
            "Counted words:\n",
            "fra 5171\n",
            "eng 3389\n",
            "['je suis tres content de te revoir .', 'i m very glad to see you again .']\n"
          ]
        }
      ]
    },
    {
      "cell_type": "markdown",
      "source": [
        "## The Seq2Seq Model\n",
        "\n",
        "**Useful vocabulary for this section**\n",
        "\n",
        "*   Recurrent Neural Net (RNN) - a network that uses its output sequence as an input for subsequent steps.\n",
        "*   Seq2Seq network  or Encoder Decoder network - a model consisting of two RNNs: (1) an encoder that reads an input sequence and outputs a vector encoding of the sequence and (2) a decoder that reads the encoded vector and outputs a sequence.\n",
        "*   Hidden state - a layer of arbitrary size which comes does not come at the beginning or end of the network.\n",
        "*   [Gated Recurrent Unit (GRU)](https://pytorch.org/docs/stable/generated/torch.nn.GRU.html) - a layer of a neural net which consturcts a hidden state at a given time step `t` from the hidden state of time `t-1`. It uses a `tanh` activation and passes all parameters through a sigmoid function.\n",
        "\n",
        "The Seq2Seq netowrk allows us to input an arbitrarily sized sentence in any language into the encoder and have the vector representation produced by the encoder be decoded into another language by the decoder.\n",
        "\n",
        "This architecture, though now used in other contexts, is ideal for machine translation. Even though words may come in different orders or are represented by multiple words in a target language, the transformer will be able to render a translation because it is decoding an vector encoded in a multilingual space.\n",
        "\n",
        "Finally, this architecture is easy(ish) to implement in `PyTorch` as we can first build the encoder and then the decoder then put them together.\n",
        "\n"
      ],
      "metadata": {
        "id": "w7XeSWa-_ILZ"
      }
    },
    {
      "cell_type": "markdown",
      "source": [
        "### The Encoder\n",
        "\n",
        "This piece of our Seq2Seq network will be a RNN that outputs some value for every word from the input sentence. For every input word, it will putput a vector and a hidden state, which will be used for the next imput word."
      ],
      "metadata": {
        "id": "P9JflJh0CF9S"
      }
    },
    {
      "cell_type": "code",
      "source": [
        "class EncoderRNN(nn.Module):\n",
        "    def __init__(self, input_size, hidden_size):\n",
        "        super(EncoderRNN, self).__init__()\n",
        "        self.hidden_size = hidden_size\n",
        "\n",
        "        self.embedding = nn.Embedding(input_size, hidden_size)\n",
        "        self.gru = nn.GRU(hidden_size, hidden_size)\n",
        "\n",
        "    def forward(self, input, hidden):\n",
        "        embedded = self.embedding(input).view(1, 1, -1)\n",
        "        output = embedded\n",
        "        output, hidden = self.gru(output, hidden)\n",
        "        return output, hidden\n",
        "\n",
        "    def initHidden(self):\n",
        "        return torch.zeros(1, 1, self.hidden_size, device=device)"
      ],
      "metadata": {
        "id": "-hnAnJkW-_Hx"
      },
      "execution_count": null,
      "outputs": []
    },
    {
      "cell_type": "markdown",
      "source": [
        "To break this down a bit:\n",
        "\n",
        "*   Input is embedded by [`nn.Embedding`](https://pytorch.org/docs/stable/generated/torch.nn.Embedding.html#torch.nn.Embedding)\n",
        "*   Input embedding is activated with [`nn.GRU`](https://pytorch.org/docs/stable/generated/torch.nn.GRU.html) and previous hidden state\n",
        "*   `nn.GRU` outputs an output embedding and another hidden state\n"
      ],
      "metadata": {
        "id": "u56o4Zp_FH3K"
      }
    },
    {
      "cell_type": "markdown",
      "source": [
        "### The Decoder\n",
        "\n",
        "This piece of out Seq2Seq network will be another RNN that take the encoder output (the embedding held by the variable `output` above) and will output a sequence of words that weill constitute the translation. We'll touch on two different type of decoders: a simple decoder and an attention decoder."
      ],
      "metadata": {
        "id": "22bJIpyNF1VJ"
      }
    },
    {
      "cell_type": "markdown",
      "source": [
        "#### Simple decoder"
      ],
      "metadata": {
        "id": "Ix38w0lwGctj"
      }
    },
    {
      "cell_type": "code",
      "source": [
        "class DecoderRNN(nn.Module):\n",
        "    def __init__(self, hidden_size, output_size):\n",
        "        super(DecoderRNN, self).__init__()\n",
        "        self.hidden_size = hidden_size\n",
        "\n",
        "        self.embedding = nn.Embedding(output_size, hidden_size)\n",
        "        self.gru = nn.GRU(hidden_size, hidden_size)\n",
        "        self.out = nn.Linear(hidden_size, output_size)\n",
        "        self.softmax = nn.LogSoftmax(dim=1)\n",
        "\n",
        "    def forward(self, input, hidden):\n",
        "        output = self.embedding(input).view(1, 1, -1)\n",
        "        output = F.relu(output)\n",
        "        output, hidden = self.gru(output, hidden)\n",
        "        output = self.softmax(self.out(output[0]))\n",
        "        return output, hidden\n",
        "\n",
        "    def initHidden(self):\n",
        "        return torch.zeros(1, 1, self.hidden_size, device=device)"
      ],
      "metadata": {
        "id": "nJDLCz_dFxJ1"
      },
      "execution_count": null,
      "outputs": []
    },
    {
      "cell_type": "markdown",
      "source": [
        "Let's break this down again:\n",
        "\n",
        "*   Input (output of encoder) is embedded by `nn.Embedding`\n",
        "*   This embedding is activated by [`F.ReLu`](https://pytorch.org/docs/stable/generated/torch.nn.ReLU.html#torch.nn.ReLU)\n",
        "*   An output and hidden state are created by passing the activated embedding through `nn.GRU`\n",
        "*   The hidden state is saved and the output is passed through a softmax layer to create probabilities from the embedding\n",
        "\n"
      ],
      "metadata": {
        "id": "UM9FBNd7GlE-"
      }
    },
    {
      "cell_type": "markdown",
      "source": [
        "#### Attention Decoder\n",
        "\n",
        "**What is attention**\n",
        "\n",
        "As we see above, the only language data being passed from the encoder to the decoder is the single vector output of `nn.GRU`. *Attention* allows the decoder to pay attention to different parts of the encoder's output. First, we'll calculate *attention weights* with a [`nn.Linear`](https://pytorch.org/docs/stable/generated/torch.nn.Linear.html#torch.nn.Linear) layer using the decoder's input and the hidden state as inputs. These will be multiplied by the encoder output to create a combination (called `attn_applied` below) that will contain information about a specific part of the input and then help the decoder to choose the correct output words.\n",
        "\n",
        "*Note*: There are also other forms of attention, for example 'local attention'.\n",
        "\n",
        "See here for a diagram: https://pytorch.org/tutorials/intermediate/seq2seq_translation_tutorial.html"
      ],
      "metadata": {
        "id": "gfWRTm6MH_SZ"
      }
    },
    {
      "cell_type": "code",
      "source": [
        "class AttnDecoderRNN(nn.Module):\n",
        "    def __init__(self, hidden_size, output_size, dropout_p=0.1, max_length=MAX_LENGTH):\n",
        "        super(AttnDecoderRNN, self).__init__()\n",
        "        self.hidden_size = hidden_size\n",
        "        self.output_size = output_size\n",
        "        self.dropout_p = dropout_p\n",
        "        self.max_length = max_length\n",
        "\n",
        "        self.embedding = nn.Embedding(self.output_size, self.hidden_size)\n",
        "        self.attn = nn.Linear(self.hidden_size * 2, self.max_length)\n",
        "        self.attn_combine = nn.Linear(self.hidden_size * 2, self.hidden_size)\n",
        "        self.dropout = nn.Dropout(self.dropout_p)\n",
        "        self.gru = nn.GRU(self.hidden_size, self.hidden_size)\n",
        "        self.out = nn.Linear(self.hidden_size, self.output_size)\n",
        "\n",
        "    def forward(self, input, hidden, encoder_outputs):\n",
        "        embedded = self.embedding(input).view(1, 1, -1)\n",
        "        embedded = self.dropout(embedded)\n",
        "\n",
        "        attn_weights = F.softmax(\n",
        "            self.attn(torch.cat((embedded[0], hidden[0]), 1)), dim=1)\n",
        "        attn_applied = torch.bmm(attn_weights.unsqueeze(0),\n",
        "                                 encoder_outputs.unsqueeze(0))\n",
        "\n",
        "        output = torch.cat((embedded[0], attn_applied[0]), 1)\n",
        "        output = self.attn_combine(output).unsqueeze(0)\n",
        "\n",
        "        output = F.relu(output)\n",
        "        output, hidden = self.gru(output, hidden)\n",
        "\n",
        "        output = F.log_softmax(self.out(output[0]), dim=1)\n",
        "        return output, hidden, attn_weights\n",
        "\n",
        "    def initHidden(self):\n",
        "        return torch.zeros(1, 1, self.hidden_size, device=device)"
      ],
      "metadata": {
        "id": "FFGcvyeqGkgG"
      },
      "execution_count": null,
      "outputs": []
    },
    {
      "cell_type": "markdown",
      "source": [
        "We can break this down the same way as with the simple decoder:\n",
        "\n",
        "*   First, the input is embedded using `nn.Embedding`\n",
        "*   Then, we pass this input into our attention layer using `nn.Linear` with the input as our x and the previous hidden state as the A in the linear transformation: $y = xA^{T} + b$ (this should look familiar from linear regression)\n",
        "*   From here, we follow the same steps as in the simple decoder. The attention layer is then combined with the original imput embedding and activated by `F.ReLu`\n",
        "*   As above, an output and hidden state are created by passing the activated embedding through `nn.GRU`\n",
        "*   The hidden state is saved and the output is passed through a softmax layer to create probabilities from the embedding"
      ],
      "metadata": {
        "id": "FJqxnPlEM6ke"
      }
    },
    {
      "cell_type": "markdown",
      "source": [
        "## Training\n",
        "\n",
        "Now that we understand the architecture of our network, we can begin training. First, we'll need to convert the indices of our sentence pairs into tensors which can be input into our encoder."
      ],
      "metadata": {
        "id": "tzjYwyy5Ogrn"
      }
    },
    {
      "cell_type": "code",
      "source": [
        "def indexesFromSentence(lang, sentence):\n",
        "    return [lang.word2index[word] for word in sentence.split(' ')]\n",
        "\n",
        "def tensorFromSentence(lang, sentence):\n",
        "    indexes = indexesFromSentence(lang, sentence)\n",
        "    indexes.append(EOS_token) # appending the EOS token!\n",
        "    return torch.tensor(indexes, dtype=torch.long, device=device).view(-1, 1)\n",
        "\n",
        "def tensorsFromPair(pair):\n",
        "    input_tensor = tensorFromSentence(input_lang, pair[0])\n",
        "    target_tensor = tensorFromSentence(output_lang, pair[1])\n",
        "    return (input_tensor, target_tensor)"
      ],
      "metadata": {
        "id": "ifJfrkSmOgdQ"
      },
      "execution_count": null,
      "outputs": []
    },
    {
      "cell_type": "markdown",
      "source": [
        "### Training function\n",
        "\n",
        "There is one final concept we need to explore before training our Seq2Seq network: *Teacher forcing*. Teacher forcing is when we use the true target outputs (in this case, the correct English language indices) as the each next input, instead of using the decoder's guess for that input. This allows the network to converge faster but can be abused if the dataset is not robust enough. We see that teacher-forced networks have much better understanding of grammar rules, but can stray from the correct translation easier. In fact, it has learned to represent the output grammar well, but not how to create the translation.\n",
        "\n",
        "`PyTorch` lets us implement teacher forcing with a simple `if` statement. Too, we can use `teacher_forcing_ratio` to control how much teacher forcing we want to use."
      ],
      "metadata": {
        "id": "iY6fe3r6P4Hz"
      }
    },
    {
      "cell_type": "code",
      "source": [
        "teacher_forcing_ratio = 0.5\n",
        "\n",
        "def train(input_tensor, target_tensor, encoder, decoder, encoder_optimizer, decoder_optimizer, criterion, max_length=MAX_LENGTH):\n",
        "    encoder_hidden = encoder.initHidden() # initalized the encoder\n",
        "\n",
        "    # zeroes encoder/decoder gradients\n",
        "    encoder_optimizer.zero_grad()\n",
        "    decoder_optimizer.zero_grad()\n",
        "\n",
        "    # input tensors from `tensorsFromPair`\n",
        "    input_length = input_tensor.size(0)\n",
        "    target_length = target_tensor.size(0)\n",
        "\n",
        "    encoder_outputs = torch.zeros(max_length, encoder.hidden_size, device=device)\n",
        "\n",
        "    loss = 0\n",
        "\n",
        "    # encoder forward pass\n",
        "    for ei in range(input_length):\n",
        "        encoder_output, encoder_hidden = encoder(\n",
        "            input_tensor[ei], encoder_hidden)\n",
        "        encoder_outputs[ei] = encoder_output[0, 0]\n",
        "\n",
        "    # add SOS token to beginning of decoder input\n",
        "    decoder_input = torch.tensor([[SOS_token]], device=device)\n",
        "\n",
        "    decoder_hidden = encoder_hidden\n",
        "\n",
        "    # decoder forward pass\n",
        "    use_teacher_forcing = True if random.random() < teacher_forcing_ratio else False\n",
        "\n",
        "    if use_teacher_forcing:\n",
        "        # Teacher forcing: Feed the target as the next input\n",
        "        for di in range(target_length):\n",
        "            decoder_output, decoder_hidden, decoder_attention = decoder(\n",
        "                decoder_input, decoder_hidden, encoder_outputs)\n",
        "            loss += criterion(decoder_output, target_tensor[di])\n",
        "            decoder_input = target_tensor[di]  # Teacher forcing\n",
        "\n",
        "    else:\n",
        "        # Without teacher forcing: use its own predictions as the next input\n",
        "        for di in range(target_length):\n",
        "            decoder_output, decoder_hidden, decoder_attention = decoder(\n",
        "                decoder_input, decoder_hidden, encoder_outputs)\n",
        "            topv, topi = decoder_output.topk(1)\n",
        "            decoder_input = topi.squeeze().detach()  # detach from history as input\n",
        "\n",
        "            loss += criterion(decoder_output, target_tensor[di])\n",
        "            if decoder_input.item() == EOS_token:\n",
        "                break\n",
        "\n",
        "    # backward pass for whole Seq2Seq network\n",
        "    loss.backward()\n",
        "\n",
        "    encoder_optimizer.step()\n",
        "    decoder_optimizer.step()\n",
        "\n",
        "    return loss.item() / target_length"
      ],
      "metadata": {
        "id": "He2OiKiIM4kn"
      },
      "execution_count": null,
      "outputs": []
    },
    {
      "cell_type": "code",
      "source": [
        "# utilities for timing\n",
        "\n",
        "import time\n",
        "import math\n",
        "\n",
        "def asMinutes(s):\n",
        "    m = math.floor(s / 60)\n",
        "    s -= m * 60\n",
        "    return '%dm %ds' % (m, s)\n",
        "\n",
        "def timeSince(since, percent):\n",
        "    now = time.time()\n",
        "    s = now - since\n",
        "    es = s / (percent)\n",
        "    rs = es - s\n",
        "    return '%s (- %s)' % (asMinutes(s), asMinutes(rs))"
      ],
      "metadata": {
        "id": "hG_HXgo7ScX_"
      },
      "execution_count": null,
      "outputs": []
    },
    {
      "cell_type": "code",
      "source": [
        "# utilities for plotting\n",
        "\n",
        "import matplotlib.pyplot as plt\n",
        "#plt.switch_backend('agg')\n",
        "import matplotlib.ticker as ticker\n",
        "import numpy as np\n",
        "\n",
        "\n",
        "def showPlot(points):\n",
        "    plt.figure()\n",
        "    fig, ax = plt.subplots()\n",
        "    # this locator puts ticks at regular intervals\n",
        "    loc = ticker.MultipleLocator(base=0.2)\n",
        "    ax.yaxis.set_major_locator(loc)\n",
        "    plt.plot(points)"
      ],
      "metadata": {
        "id": "SuE8Ce7-TTkk"
      },
      "execution_count": null,
      "outputs": []
    },
    {
      "cell_type": "code",
      "source": [
        "# evaluation will do a foward pass in each RNN and return the words which are most likely\n",
        "# to be the translation of the input sentence as determined by softmax probabilities\n",
        "\n",
        "def evaluate(encoder, decoder, sentence, max_length=MAX_LENGTH):\n",
        "    with torch.no_grad():\n",
        "        input_tensor = tensorFromSentence(input_lang, sentence)\n",
        "        input_length = input_tensor.size()[0]\n",
        "        encoder_hidden = encoder.initHidden()\n",
        "\n",
        "        encoder_outputs = torch.zeros(max_length, encoder.hidden_size, device=device)\n",
        "\n",
        "        for ei in range(input_length):\n",
        "            encoder_output, encoder_hidden = encoder(input_tensor[ei],\n",
        "                                                     encoder_hidden)\n",
        "            encoder_outputs[ei] += encoder_output[0, 0]\n",
        "\n",
        "        decoder_input = torch.tensor([[SOS_token]], device=device)  # SOS\n",
        "\n",
        "        decoder_hidden = encoder_hidden\n",
        "\n",
        "        decoded_words = []\n",
        "        decoder_attentions = torch.zeros(max_length, max_length)\n",
        "\n",
        "        for di in range(max_length):\n",
        "            decoder_output, decoder_hidden, decoder_attention = decoder(\n",
        "                decoder_input, decoder_hidden, encoder_outputs)\n",
        "            decoder_attentions[di] = decoder_attention.data\n",
        "            topv, topi = decoder_output.data.topk(1)\n",
        "            if topi.item() == EOS_token:\n",
        "                decoded_words.append('<EOS>')\n",
        "                break\n",
        "            else:\n",
        "                decoded_words.append(output_lang.index2word[topi.item()])\n",
        "\n",
        "            decoder_input = topi.squeeze().detach()\n",
        "\n",
        "        return decoded_words, decoder_attentions[:di + 1]"
      ],
      "metadata": {
        "id": "bzpo4xW7Tkf_"
      },
      "execution_count": null,
      "outputs": []
    },
    {
      "cell_type": "code",
      "source": [
        "def evaluateRandomly(encoder, decoder, n=10):\n",
        "    for i in range(n):\n",
        "        pair = random.choice(pairs)\n",
        "        print('>', pair[0])\n",
        "        print('=', pair[1])\n",
        "        output_words, attentions = evaluate(encoder, decoder, pair[0])\n",
        "        output_sentence = ' '.join(output_words)\n",
        "        print('<', output_sentence)\n",
        "        print('')"
      ],
      "metadata": {
        "id": "NYmlne-maaRp"
      },
      "execution_count": null,
      "outputs": []
    },
    {
      "cell_type": "markdown",
      "source": [
        "Training will proceed as follows:\n",
        "\n",
        "*   Start the timer\n",
        "*   Initialize optimizers and loss function\n",
        "*   Create training batch\n",
        "*   Record loss for plotting\n",
        "*   Evaluate our model\n",
        "\n"
      ],
      "metadata": {
        "id": "ud1ac-K0S8sZ"
      }
    },
    {
      "cell_type": "code",
      "source": [
        "def trainIters(encoder, decoder, n_iters, print_every=1000, plot_every=100, learning_rate=0.01):\n",
        "    start = time.time()\n",
        "    plot_losses = []\n",
        "    print_loss_total = 0  # Reset every print_every\n",
        "    plot_loss_total = 0  # Reset every plot_every\n",
        "\n",
        "    encoder_optimizer = optim.SGD(encoder.parameters(), lr=learning_rate)\n",
        "    decoder_optimizer = optim.SGD(decoder.parameters(), lr=learning_rate)\n",
        "    training_pairs = [tensorsFromPair(random.choice(pairs))\n",
        "                      for i in range(n_iters)]\n",
        "    criterion = nn.NLLLoss()\n",
        "\n",
        "    for iter in range(1, n_iters + 1):\n",
        "        training_pair = training_pairs[iter - 1]\n",
        "        input_tensor = training_pair[0]\n",
        "        target_tensor = training_pair[1]\n",
        "\n",
        "        loss = train(input_tensor, target_tensor, encoder,\n",
        "                     decoder, encoder_optimizer, decoder_optimizer, criterion)\n",
        "        print_loss_total += loss\n",
        "        plot_loss_total += loss\n",
        "\n",
        "        if iter % print_every == 0:\n",
        "            print_loss_avg = print_loss_total / print_every\n",
        "            print_loss_total = 0\n",
        "            print('%s (%d %d%%) %.4f' % (timeSince(start, iter / n_iters),\n",
        "                                         iter, iter / n_iters * 100, print_loss_avg))\n",
        "\n",
        "        if iter % plot_every == 0:\n",
        "            plot_loss_avg = plot_loss_total / plot_every\n",
        "            plot_losses.append(plot_loss_avg)\n",
        "            plot_loss_total = 0\n",
        "\n",
        "    showPlot(plot_losses)"
      ],
      "metadata": {
        "id": "h71cbho-S3Hl"
      },
      "execution_count": null,
      "outputs": []
    },
    {
      "cell_type": "markdown",
      "source": [
        "### Training results"
      ],
      "metadata": {
        "id": "T12Mkf4VT6Um"
      }
    },
    {
      "cell_type": "code",
      "source": [
        "hidden_size = 256\n",
        "encoder1 = EncoderRNN(input_lang.n_words, hidden_size).to(device)\n",
        "attn_decoder1 = AttnDecoderRNN(hidden_size, output_lang.n_words, dropout_p=0.1).to(device)\n",
        "\n",
        "trainIters(encoder1, attn_decoder1, 75000, print_every=5000)"
      ],
      "metadata": {
        "colab": {
          "base_uri": "https://localhost:8080/",
          "height": 561
        },
        "id": "I7OKnZygTYIH",
        "outputId": "ea0c8bab-cb44-4553-ad51-919f22fa72d7"
      },
      "execution_count": null,
      "outputs": [
        {
          "output_type": "stream",
          "name": "stdout",
          "text": [
            "1m 25s (- 20m 1s) (5000 6%) 3.0698\n",
            "2m 48s (- 18m 12s) (10000 13%) 2.5384\n",
            "4m 14s (- 16m 57s) (15000 20%) 2.2402\n",
            "5m 38s (- 15m 31s) (20000 26%) 1.9931\n",
            "7m 6s (- 14m 12s) (25000 33%) 1.8022\n",
            "8m 29s (- 12m 44s) (30000 40%) 1.6516\n",
            "9m 53s (- 11m 18s) (35000 46%) 1.5201\n",
            "11m 17s (- 9m 52s) (40000 53%) 1.4076\n",
            "12m 41s (- 8m 27s) (45000 60%) 1.2953\n",
            "14m 4s (- 7m 2s) (50000 66%) 1.1893\n",
            "15m 28s (- 5m 37s) (55000 73%) 1.0975\n",
            "16m 53s (- 4m 13s) (60000 80%) 1.0386\n",
            "18m 18s (- 2m 48s) (65000 86%) 0.9832\n",
            "19m 42s (- 1m 24s) (70000 93%) 0.9107\n",
            "21m 6s (- 0m 0s) (75000 100%) 0.8556\n"
          ]
        },
        {
          "output_type": "display_data",
          "data": {
            "text/plain": [
              "<Figure size 432x288 with 0 Axes>"
            ]
          },
          "metadata": {}
        },
        {
          "output_type": "display_data",
          "data": {
            "text/plain": [
              "<Figure size 432x288 with 1 Axes>"
            ],
            "image/png": "[encoded data removed]"
          },
          "metadata": {
            "needs_background": "light"
          }
        }
      ]
    },
    {
      "cell_type": "code",
      "source": [
        "evaluateRandomly(encoder1, attn_decoder1)"
      ],
      "metadata": {
        "colab": {
          "base_uri": "https://localhost:8080/"
        },
        "id": "1-ftzU88aPTS",
        "outputId": "c172a70e-00da-4cad-985c-91f7982b7919"
      },
      "execution_count": null,
      "outputs": [
        {
          "output_type": "stream",
          "name": "stdout",
          "text": [
            "> tu es son frere n est ce pas ?\n",
            "= you are his brother right ?\n",
            "< you are not ready with ? <EOS>\n",
            "\n",
            "> je suis promue .\n",
            "= i m being promoted .\n",
            "< i m being . <EOS>\n",
            "\n",
            "> soit il est saoul soit il est fou .\n",
            "= he is either drunk or mad .\n",
            "< he is crazy my my . . <EOS>\n",
            "\n",
            "> vous n etes pas fatigues si ?\n",
            "= you re not tired are you ?\n",
            "< you re not upset are you ? <EOS>\n",
            "\n",
            "> il a probablement tort .\n",
            "= he s probably wrong .\n",
            "< he s probably wrong . <EOS>\n",
            "\n",
            "> je vais bientot etre partie .\n",
            "= i m going to be gone soon .\n",
            "< i m going to be in big trouble . <EOS>\n",
            "\n",
            "> je suis puissant .\n",
            "= i m powerful .\n",
            "< i m powerful . <EOS>\n",
            "\n",
            "> vous etes degoutantes .\n",
            "= you re disgusting .\n",
            "< you re disgusting . <EOS>\n",
            "\n",
            "> je n ai pas l intention de preparer a diner pour vingt personnes .\n",
            "= i m not willing to cook dinner for twenty people .\n",
            "< i m not willing to stay dinner . . <EOS>\n",
            "\n",
            "> tu es la femme la plus belle du monde .\n",
            "= you re the most beautiful woman in the whole world .\n",
            "< you re the most beautiful woman in the world . <EOS>\n",
            "\n"
          ]
        }
      ]
    },
    {
      "cell_type": "markdown",
      "source": [
        "## Trying a new dataset\n",
        "\n",
        "As I mentioned above, now that we have implemented the transformer architecture, we can now try on a new dataset, one that is comparable in size to the forthcoming Dakota dataset. In this example, I'll use [Breton](https://en.wikipedia.org/wiki/Breton_language), the language spoken by people living in Brittany, currently a part of France but was at one point a sovereign nation with its own language. Breton is one of the few remaining Celtic languages, the speakers of which, similar to the native Americans of this continent thousands of years later, were murdered and forcibly assimilated into Roman society during the conquests of Julius Caesar. Though speakers of Breton are few, they are tenacious.\n"
      ],
      "metadata": {
        "id": "SafG9zXlePLU"
      }
    },
    {
      "cell_type": "code",
      "source": [
        "!unzip bre-eng.zip"
      ],
      "metadata": {
        "colab": {
          "base_uri": "https://localhost:8080/"
        },
        "id": "1tdWNPMjfi8d",
        "outputId": "79f381e4-a123-4338-cd6f-381b435ca306"
      },
      "execution_count": null,
      "outputs": [
        {
          "output_type": "stream",
          "name": "stdout",
          "text": [
            "unzip:  cannot find or open bre-eng.zip, bre-eng.zip.zip or bre-eng.zip.ZIP.\n"
          ]
        }
      ]
    },
    {
      "cell_type": "code",
      "source": [
        "# there's some extra cleaning we need to do to make it look like the eng-fre dataset...\n",
        "!head bre.txt"
      ],
      "metadata": {
        "colab": {
          "base_uri": "https://localhost:8080/"
        },
        "id": "_1dszdDWfi5r",
        "outputId": "61bdc297-dd06-4d7a-ee95-fcce5aebc9e8"
      },
      "execution_count": null,
      "outputs": [
        {
          "output_type": "stream",
          "name": "stdout",
          "text": [
            "head: cannot open 'bre.txt' for reading: No such file or directory\n"
          ]
        }
      ]
    },
    {
      "cell_type": "code",
      "source": [
        "# making a new file which we can pass into the data prep process\n",
        "raw = open('bre.txt').readlines()\n",
        "clean = [re.sub('(?=\\tCC).*','', r) for r in raw]\n",
        "clean[:10]"
      ],
      "metadata": {
        "colab": {
          "base_uri": "https://localhost:8080/"
        },
        "id": "GwQ6yk_hfi0p",
        "outputId": "5a3a45ed-247a-4e85-ea87-a2e953f23b5c"
      },
      "execution_count": null,
      "outputs": [
        {
          "output_type": "execute_result",
          "data": {
            "text/plain": [
              "['Thanks!\\tTrugarez !\\n',\n",
              " 'Thanks!\\tMersi !\\n',\n",
              " 'Thanks!\\tBennozh !\\n',\n",
              " 'Thanks.\\tTrugarez.\\n',\n",
              " 'Thanks.\\tMersi.\\n',\n",
              " 'Thanks.\\tBennozh.\\n',\n",
              " 'I eat bread.\\tBara a vez debret ganin.\\n',\n",
              " 'Many thanks.\\tMil drugarez.\\n',\n",
              " 'Many thanks.\\tMil bennozh.\\n',\n",
              " 'Are you here?\\tAmañ emaout ?\\n']"
            ]
          },
          "metadata": {},
          "execution_count": 31
        }
      ]
    },
    {
      "cell_type": "code",
      "source": [
        "with open('eng-bre.txt', 'w') as f:\n",
        "    for c in clean:\n",
        "        f.write(c)"
      ],
      "metadata": {
        "id": "qi4bY5wphkBg"
      },
      "execution_count": null,
      "outputs": []
    },
    {
      "cell_type": "code",
      "source": [
        "!head eng-bre.txt"
      ],
      "metadata": {
        "colab": {
          "base_uri": "https://localhost:8080/"
        },
        "id": "ZmiK8uhFhyxP",
        "outputId": "5fb75a59-c29c-4f3d-f62a-f50893f15ea4"
      },
      "execution_count": null,
      "outputs": [
        {
          "output_type": "stream",
          "name": "stdout",
          "text": [
            "Thanks!\tTrugarez !\n",
            "Thanks!\tMersi !\n",
            "Thanks!\tBennozh !\n",
            "Thanks.\tTrugarez.\n",
            "Thanks.\tMersi.\n",
            "Thanks.\tBennozh.\n",
            "I eat bread.\tBara a vez debret ganin.\n",
            "Many thanks.\tMil drugarez.\n",
            "Many thanks.\tMil bennozh.\n",
            "Are you here?\tAmañ emaout ?\n"
          ]
        }
      ]
    },
    {
      "cell_type": "code",
      "source": [
        "# just need to move this file into the data directory\n",
        "!cp eng-bre.txt data"
      ],
      "metadata": {
        "id": "KEo9pww3iWoO"
      },
      "execution_count": null,
      "outputs": []
    },
    {
      "cell_type": "code",
      "source": [
        "MAX_LENGTH = 50\n",
        "\n",
        "def prepareData(lang1, lang2, trim=True, reverse=False):\n",
        "    input_lang, output_lang, pairs = readLangs(lang1, lang2, reverse)\n",
        "    print(\"Read %s sentence pairs\" % len(pairs))\n",
        "    if trim:\n",
        "        pairs = filterPairs(pairs)\n",
        "        print(\"Trimmed to %s sentence pairs\" % len(pairs))\n",
        "    print(\"Counting words...\")\n",
        "    for pair in pairs:\n",
        "        input_lang.addSentence(pair[0])\n",
        "        output_lang.addSentence(pair[1])\n",
        "    print(\"Counted words:\")\n",
        "    print(input_lang.name, input_lang.n_words)\n",
        "    print(output_lang.name, output_lang.n_words)\n",
        "    return input_lang, output_lang, pairs"
      ],
      "metadata": {
        "id": "X7ECy5nGiLyl"
      },
      "execution_count": null,
      "outputs": []
    },
    {
      "cell_type": "code",
      "source": [
        "input_lang, output_lang, pairs = prepareData('eng', 'bre', False, True)\n",
        "print(random.choice(pairs))"
      ],
      "metadata": {
        "colab": {
          "base_uri": "https://localhost:8080/"
        },
        "id": "ddjhSDJxtfh6",
        "outputId": "151daadc-3497-4c8b-a5d4-e83a59952857"
      },
      "execution_count": null,
      "outputs": [
        {
          "output_type": "stream",
          "name": "stdout",
          "text": [
            "Reading lines...\n",
            "Read 196 sentence pairs\n",
            "Counting words...\n",
            "Counted words:\n",
            "bre 306\n",
            "eng 208\n",
            "['dav din mont .', 'i have to leave .']\n"
          ]
        }
      ]
    },
    {
      "cell_type": "code",
      "source": [
        "hidden_size = 256\n",
        "encoder1 = EncoderRNN(input_lang.n_words, hidden_size).to(device)\n",
        "attn_decoder1 = AttnDecoderRNN(hidden_size, output_lang.n_words, dropout_p=0.1).to(device)\n",
        "\n",
        "trainIters(encoder1, attn_decoder1, 75000, print_every=5000)"
      ],
      "metadata": {
        "colab": {
          "base_uri": "https://localhost:8080/",
          "height": 549
        },
        "id": "ytFyfaYSiLu3",
        "outputId": "88cc5cf9-cbba-4fa7-88cc-c04d9952e297"
      },
      "execution_count": null,
      "outputs": [
        {
          "output_type": "stream",
          "name": "stdout",
          "text": [
            "1m 11s (- 16m 37s) (5000 6%) 1.2052\n",
            "2m 19s (- 15m 9s) (10000 13%) 0.0472\n",
            "3m 27s (- 13m 50s) (15000 20%) 0.0152\n",
            "4m 35s (- 12m 38s) (20000 26%) 0.0090\n",
            "5m 44s (- 11m 28s) (25000 33%) 0.0057\n",
            "6m 52s (- 10m 18s) (30000 40%) 0.0049\n",
            "8m 0s (- 9m 9s) (35000 46%) 0.0043\n",
            "9m 8s (- 8m 0s) (40000 53%) 0.0040\n",
            "10m 16s (- 6m 50s) (45000 60%) 0.0037\n",
            "11m 24s (- 5m 42s) (50000 66%) 0.0030\n",
            "12m 32s (- 4m 33s) (55000 73%) 0.0033\n",
            "13m 40s (- 3m 25s) (60000 80%) 0.0028\n",
            "14m 48s (- 2m 16s) (65000 86%) 0.0028\n",
            "15m 56s (- 1m 8s) (70000 93%) 0.0028\n",
            "17m 4s (- 0m 0s) (75000 100%) 0.0024\n"
          ]
        },
        {
          "output_type": "display_data",
          "data": {
            "text/plain": [
              "<Figure size 432x288 with 0 Axes>"
            ]
          },
          "metadata": {}
        },
        {
          "output_type": "display_data",
          "data": {
            "text/plain": [
              "<Figure size 432x288 with 1 Axes>"
            ],
            "image/png": "[encoded data removed]"
          },
          "metadata": {
            "needs_background": "light"
          }
        }
      ]
    },
    {
      "cell_type": "code",
      "source": [
        "evaluateRandomly(encoder1, attn_decoder1)"
      ],
      "metadata": {
        "colab": {
          "base_uri": "https://localhost:8080/"
        },
        "id": "bjhzVPXfrhNy",
        "outputId": "55840c0e-03c5-4291-e09a-1e7f6d64c402"
      },
      "execution_count": null,
      "outputs": [
        {
          "output_type": "stream",
          "name": "stdout",
          "text": [
            "> ur c harr az peus ?\n",
            "= do you have a car ?\n",
            "< do you have a car ? <EOS>\n",
            "\n",
            "> pegement eo ar montr man ?\n",
            "= how much is this watch ?\n",
            "< how much is this watch ? <EOS>\n",
            "\n",
            "> dont a ran eus tokyo bro japan .\n",
            "= i m from tokyo japan .\n",
            "< i m from tokyo japan . <EOS>\n",
            "\n",
            "> se n eo ket ur frazenn .\n",
            "= this is not a sentence .\n",
            "< this is not a sentence . <EOS>\n",
            "\n",
            "> me a wel un dra bennak .\n",
            "= i see something .\n",
            "< i see something . <EOS>\n",
            "\n",
            "> kelenn a blij din .\n",
            "= i love teaching .\n",
            "< i love teaching . <EOS>\n",
            "\n",
            "> o vervel e oant .\n",
            "= they were dying .\n",
            "< they were dying . <EOS>\n",
            "\n",
            "> n eus abeg ebet da vezan spontet .\n",
            "= there s no reason to be afraid .\n",
            "< there s no reason to be afraid . <EOS>\n",
            "\n",
            "> bez zo ur bern keriou bras e barzh ar brazil .\n",
            "= there are a lot of big cities in brazil .\n",
            "< there are a lot of big cities in brazil . <EOS>\n",
            "\n",
            "> n em eus ket kousket .\n",
            "= i haven t slept .\n",
            "< i haven t slept . <EOS>\n",
            "\n"
          ]
        }
      ]
    },
    {
      "cell_type": "code",
      "source": [
        "# can save our models for later using pickle\n",
        "import pickle\n",
        "pickle.dump(encoder1, open(\"breton_english_encoder.p\", \"wb\" ))\n",
        "pickle.dump(attn_decoder1, open(\"breton_english_decoder.p\", \"wb\" ))"
      ],
      "metadata": {
        "id": "HYzfFOQj_CyY"
      },
      "execution_count": null,
      "outputs": []
    },
    {
      "cell_type": "markdown",
      "source": [
        "# Conclusion\n",
        "\n",
        "Transformers take advantage of the sequential nature of the textual data which they encode and decode. That said, transformers are able to encode and decode much more than just aligned sentence pairs. In fact, they can be used with any sequential data, which ends up being most data in general. For instance, a system like ChatGPT learns how to answer questions through the same process. The question is encoded by an encoder and then the answer is decoded from that vector space by a decoder. Stable diffusion and other image generation models take in text and encode them and then decode an image.\n",
        "\n",
        "Too, encoding embeddings can be swapped out with pre-trained word embeddings from word2vec or GloVe. These encoding layers are amazing resources for research and can offer new insights into large datasets across the social sciences and the humanities."
      ],
      "metadata": {
        "id": "LKpyxn5neLsy"
      }
    }
  ]
}