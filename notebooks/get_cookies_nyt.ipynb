{
 "cells": [
  {
   "cell_type": "code",
   "execution_count": 1,
   "metadata": {},
   "outputs": [],
   "source": [
    "import sqlite3\n",
    "import json\n",
    "import os\n",
    "import shutil\n",
    "from pathlib import Path"
   ]
  },
  {
   "cell_type": "code",
   "execution_count": 2,
   "metadata": {},
   "outputs": [],
   "source": [
    "def get_firefox_cookie_path():\n",
    "    \"\"\"Get the path to Firefox's cookies.sqlite file.\"\"\"\n",
    "    # if os.name == 'nt':  # Windows\n",
    "    #     path = Path(os.environ['APPDATA']) / 'Mozilla/Firefox/Profiles'\n",
    "    # elif os.name == 'posix':  # macOS and Linux\n",
    "    #     if os.path.exists(str(Path.home() / 'Library')):  # macOS\n",
    "    path = Path.home() / 'Library/Application Support/Firefox/Profiles'\n",
    "    #     else:  # Linux\n",
    "    #         path = Path.home() / '.mozilla/firefox'\n",
    "    \n",
    "    # Find the default profile\n",
    "    profiles = list(path.glob('*.default*'))\n",
    "    if not profiles:\n",
    "        raise Exception(\"No Firefox profile found\")\n",
    "    return profiles[1] / 'cookies.sqlite'"
   ]
  },
  {
   "cell_type": "code",
   "execution_count": 3,
   "metadata": {},
   "outputs": [
    {
     "data": {
      "text/plain": [
       "PosixPath('/Users/pnadel01/Library/Application Support/Firefox/Profiles')"
      ]
     },
     "execution_count": 3,
     "metadata": {},
     "output_type": "execute_result"
    }
   ],
   "source": [
    "path = Path.home() / 'Library/Application Support/Firefox/Profiles'\n",
    "path"
   ]
  },
  {
   "cell_type": "code",
   "execution_count": 4,
   "metadata": {},
   "outputs": [
    {
     "data": {
      "text/plain": [
       "[PosixPath('/Users/pnadel01/Library/Application Support/Firefox/Profiles/nl97l1mw.default'),\n",
       " PosixPath('/Users/pnadel01/Library/Application Support/Firefox/Profiles/3r1wtedk.default-release')]"
      ]
     },
     "execution_count": 4,
     "metadata": {},
     "output_type": "execute_result"
    }
   ],
   "source": [
    "profiles = list(path.glob('*.default*'))\n",
    "profiles"
   ]
  },
  {
   "cell_type": "code",
   "execution_count": 5,
   "metadata": {},
   "outputs": [
    {
     "data": {
      "text/plain": [
       "['sessionstore-backups',\n",
       " 'weave',\n",
       " 'compatibility.ini',\n",
       " 'settings',\n",
       " 'favicons.sqlite-wal',\n",
       " 'extension-store',\n",
       " 'addons.json',\n",
       " '.parentlock',\n",
       " 'logins.json',\n",
       " 'search.json.mozlz4',\n",
       " 'sessionCheckpoints.json',\n",
       " 'pkcs11.txt',\n",
       " 'times.json',\n",
       " 'suggest.sqlite-wal',\n",
       " 'AlternateServices.bin',\n",
       " 'extension-preferences.json',\n",
       " 'addonStartup.json.lz4',\n",
       " 'suggest.sqlite-shm',\n",
       " 'suggest.sqlite',\n",
       " 'crashes',\n",
       " 'key4.db',\n",
       " 'webappsstore.sqlite',\n",
       " 'protections.sqlite',\n",
       " 'targeting.snapshot.json',\n",
       " 'places.sqlite-wal',\n",
       " 'security_state',\n",
       " 'datareporting',\n",
       " 'broadcast-listeners.json',\n",
       " 'cookies.sqlite',\n",
       " 'domain_to_categories.sqlite-journal',\n",
       " 'containers.json',\n",
       " 'formhistory.sqlite',\n",
       " 'storage',\n",
       " 'extensions.json',\n",
       " 'handlers.json',\n",
       " 'domain_to_categories.sqlite',\n",
       " 'serviceworker.txt',\n",
       " 'notificationstore.json',\n",
       " 'saved-telemetry-pings',\n",
       " 'bookmarkbackups',\n",
       " 'content-prefs.sqlite',\n",
       " 'gmp-gmpopenh264',\n",
       " 'permissions.sqlite',\n",
       " 'gmp-widevinecdm',\n",
       " 'favicons.sqlite',\n",
       " 'logins-backup.json',\n",
       " 'webappsstore.sqlite-wal',\n",
       " 'bounce-tracking-protection.sqlite',\n",
       " 'ExperimentStoreData.json',\n",
       " 'cert9.db',\n",
       " 'xulstore.json',\n",
       " 'prefs.js',\n",
       " 'SiteSecurityServiceState.bin',\n",
       " 'SiteSecurityServiceState.txt',\n",
       " 'storage.sqlite',\n",
       " 'places.sqlite',\n",
       " 'sessionstore-logs',\n",
       " 'minidumps',\n",
       " 'cookies.sqlite-wal',\n",
       " 'extension-store-menus',\n",
       " 'shield-preference-experiments.json']"
      ]
     },
     "execution_count": 5,
     "metadata": {},
     "output_type": "execute_result"
    }
   ],
   "source": [
    "os.listdir(profiles[1])"
   ]
  },
  {
   "cell_type": "code",
   "execution_count": 6,
   "metadata": {},
   "outputs": [],
   "source": [
    "cookie_path = get_firefox_cookie_path()"
   ]
  },
  {
   "cell_type": "code",
   "execution_count": 7,
   "metadata": {},
   "outputs": [
    {
     "data": {
      "text/plain": [
       "'temp_cookies.sqlite'"
      ]
     },
     "execution_count": 7,
     "metadata": {},
     "output_type": "execute_result"
    }
   ],
   "source": [
    "temp_path = 'temp_cookies.sqlite'\n",
    "shutil.copy2(cookie_path, temp_path)"
   ]
  },
  {
   "cell_type": "code",
   "execution_count": 8,
   "metadata": {},
   "outputs": [
    {
     "name": "stdout",
     "output_type": "stream",
     "text": [
      "Exported 8 cookies to cookies.json\n"
     ]
    }
   ],
   "source": [
    "domain = \"factiva.com\"\n",
    "output_file='cookies.json'\n",
    "\n",
    "try:\n",
    "    # Connect to the copied database\n",
    "    conn = sqlite3.connect(temp_path)\n",
    "    cursor = conn.cursor()\n",
    "    \n",
    "    # Query to get cookies\n",
    "    query = \"\"\"\n",
    "        SELECT name, value, host, path, isSecure, expiry\n",
    "        FROM moz_cookies\n",
    "    \"\"\"\n",
    "    if domain:\n",
    "        query += \" WHERE host LIKE ?\"\n",
    "        cursor.execute(query, (f\"%{domain}%\",))\n",
    "    else:\n",
    "        cursor.execute(query)\n",
    "        \n",
    "    # Convert cookies to list of dictionaries\n",
    "    cookie_list = []\n",
    "    for row in cursor.fetchall():\n",
    "        cookie_dict = {\n",
    "            'name': row[0],\n",
    "            'value': row[1],\n",
    "            'domain': row[2] if row[2].startswith('.') else '.' + row[2],\n",
    "            'path': row[3],\n",
    "            'secure': bool(row[4]),\n",
    "            'expiry': row[5]\n",
    "        }\n",
    "        cookie_list.append(cookie_dict)\n",
    "        \n",
    "    # Save to file\n",
    "    with open(output_file, 'w') as f:\n",
    "        json.dump(cookie_list, f, indent=2)\n",
    "        \n",
    "    print(f\"Exported {len(cookie_list)} cookies to {output_file}\")\n",
    "    \n",
    "finally:\n",
    "    conn.close()\n",
    "    os.remove(temp_path)"
   ]
  },
  {
   "cell_type": "code",
   "execution_count": null,
   "metadata": {},
   "outputs": [],
   "source": []
  }
 ],
 "metadata": {
  "kernelspec": {
   "display_name": "base",
   "language": "python",
   "name": "python3"
  },
  "language_info": {
   "codemirror_mode": {
    "name": "ipython",
    "version": 3
   },
   "file_extension": ".py",
   "mimetype": "text/x-python",
   "name": "python",
   "nbconvert_exporter": "python",
   "pygments_lexer": "ipython3",
   "version": "3.9.12"
  }
 },
 "nbformat": 4,
 "nbformat_minor": 2
}
